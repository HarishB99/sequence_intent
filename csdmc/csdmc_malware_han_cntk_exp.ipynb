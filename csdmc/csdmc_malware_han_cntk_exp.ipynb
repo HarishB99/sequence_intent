{
 "cells": [
  {
   "cell_type": "markdown",
   "metadata": {},
   "source": [
    "# CSDMC 2010 Malware Detection Using Hierarchical Attention Networks"
   ]
  },
  {
   "cell_type": "markdown",
   "metadata": {},
   "source": [
    "### Problem description\n",
    "Dynamic process analysis aims to identify a malicious process *while it is running* on a host system. The main challenge is to detect the questionable behavior as soon as possible by observing the actions performed by the running process.\n",
    "\n",
    "We will use the [CSDMC 2010 Malicious Software](http://csmining.org/index.php/malicious-software-datasets-.html) dataset to simulate dynamic process analysis using API calls. We will also classify the full process trace to identify malicious intent.\n",
    "\n",
    "Note that the CSDMC 2010 dataset contains only the API calls without any arguments. The solution in this notebook is more generalized, supporting any number of fields per API call. There is no need for normalization in the CSDMC dataset case, and MAX_FIELDS should be set to 1.\n",
    "\n",
    "### Proposed solution\n",
    "The solution demonstrated in this notebook is inspired by the domain of natural language processing, and document classification in particular. Determining the sentiment and/or topic expressed in a text document requires a deeper understanding of the words, sentences, language structure, writing style, and syntactic and semantic structure of the document.\n",
    "\n",
    "Yang, Zichao et al proposed a [hierachical attention network for document classification](https://www.microsoft.com/en-us/research/wp-content/uploads/2017/06/Hierarchical-Attention-Networks-for-Document-Classification.pdf)), presented at [NAACL 2016](http://aclweb.org/anthology/N/N16/). The solution leverages the hierarchical structure of a document, from words to sentences to documents, mirrored in a multi-layer [recurrent neural network](https://en.wikipedia.org/wiki/Recurrent_neural_network) with special *attention* layers applied at the word and the sentence levels. The architecture of the Hierarchical Attention Network (HAN) is shown in the figure below. The overall process is nicely  described in details in this [blog](https://explosion.ai/blog/deep-learning-formula-nlp).\n",
    "\n",
    "![Hierarchical Attention Network](HierachicalAttention.png)\n",
    "\n",
    "We propose a dynamic process analysis solution that leverages multi-layers of *memory and understanding* of the sequence of observed process actions based on hiearchical attention networks. If we think of the sequence of process actions as analogous to sequence of words in text, and groups of actions as sentences, classifying patterns of process behavior could then be viewed as classifying documents.\n",
    "\n",
    "![HAN for process analysis](HAN-proc-analysis1.png)\n",
    "\n",
    "### Some implementation details\n",
    "1. Data format: Process traces are represented as tab-separated tuples of (action, target, sub-target, status, ..). \n",
    "2. Pre-processing: Fields other than process action are normalized to limit the target/sub-target variations. For e.g., registry keys, files/folders are represented in a shortened form to collapse many values to a representative normalized form.\n",
    "3. Any number of fields can be included in model training, as defined in the parameter MAX_FIELDS.\n",
    "4. Each field in a process action tuple is equivalent to a *word*.\n",
    "5. Number of words per *sentence* and number of sentences in a *document* are configurable.\n",
    "6. Word embeddings can be initialized using pre-trained vectors, or left uninitialized. Defined by parameter USE_WORD2VEC.\n",
    "7. Other configurable options define various network dimensions, learning hyper-parameters, data sampling options, etc.\n",
    "8. Deep learning framework: Keras with a CNTK backend, with GPU support."
   ]
  },
  {
   "cell_type": "markdown",
   "metadata": {},
   "source": [
    "The HAN code in this notebook is based on the LSTM HAN implementation found in this [GitHub notebook](https://github.com/anargyri/lstm_han/blob/master/hatt_archive_cntk.ipynb) by Andreas Argyriou. The base notebook is based on [Richard Liao's implementation of hierarchical attention networks](https://github.com/richliao/textClassifier/blob/master/textClassifierHATT.py) and a related [Google group discussion](https://groups.google.com/forum/#!topic/keras-users/IWK9opMFavQ). The notebook also includes code from [Keras documentation](https://keras.io/) and [blog](https://blog.keras.io/using-pre-trained-word-embeddings-in-a-keras-model.html) as well as this [word2vec tutorial](http://adventuresinmachinelearning.com/gensim-word2vec-tutorial/)."
   ]
  },
  {
   "cell_type": "code",
   "execution_count": 1,
   "metadata": {},
   "outputs": [
    {
     "name": "stdout",
     "output_type": "stream",
     "text": [
      "Populating the interactive namespace from numpy and matplotlib\n"
     ]
    },
    {
     "name": "stderr",
     "output_type": "stream",
     "text": [
      "Using CNTK backend\n"
     ]
    }
   ],
   "source": [
    "%matplotlib inline\n",
    "%pylab inline\n",
    "\n",
    "import numpy as np\n",
    "import os \n",
    "import time\n",
    "import re\n",
    "from datetime import datetime\n",
    "import matplotlib.pyplot as plt\n",
    "\n",
    "os.environ['KERAS_BACKEND'] = 'cntk'\n",
    "from cntk.device import try_set_default_device, gpu, cpu\n",
    "from cntk.cntk_py import set_fixed_random_seed\n",
    "from cntk.cntk_py import set_computation_network_trace_level, set_checked_mode\n",
    "from cntk.cntk_py import force_deterministic_algorithms, disable_forward_values_sharing\n",
    "from cntk.debugging import debug_model\n",
    "\n",
    "# Set default device - negative for cpu (optional)\n",
    "gpu_device = 1\n",
    "if gpu_device >= 0:\n",
    "    try_set_default_device(gpu(gpu_device))\n",
    "else:\n",
    "    try_set_default_device(cpu())\n",
    "\n",
    "from keras.preprocessing.text import Tokenizer, text_to_word_sequence\n",
    "from keras.preprocessing.sequence import pad_sequences\n",
    "from keras.utils.np_utils import to_categorical\n",
    "from keras.optimizers import SGD, Adam, Adagrad\n",
    "\n",
    "from keras.layers import Embedding\n",
    "from keras.layers import Dense, Input, Flatten\n",
    "from keras.layers import Conv1D, MaxPooling1D, Embedding, Merge, Dropout, LSTM, GRU, Bidirectional, TimeDistributed\n",
    "from keras.models import Model, load_model\n",
    "\n",
    "from keras import backend as K\n",
    "from keras.engine.topology import Layer, InputSpec\n",
    "from keras import initializers, regularizers, optimizers\n",
    "from keras.callbacks import History, CSVLogger, ModelCheckpoint\n",
    "\n",
    "from sklearn.metrics import accuracy_score, roc_auc_score, roc_curve, confusion_matrix"
   ]
  },
  {
   "cell_type": "markdown",
   "metadata": {},
   "source": [
    "### Read clean and ransomware Action -> Target tuples from files"
   ]
  },
  {
   "cell_type": "code",
   "execution_count": 2,
   "metadata": {},
   "outputs": [
    {
     "name": "stdout",
     "output_type": "stream",
     "text": [
      "Read 1329976 class1 tuples\n",
      "Read 1317776 class2 tuples\n"
     ]
    }
   ],
   "source": [
    "class1_srcfile = './data/csdmc_clean.txt'\n",
    "class2_srcfile = './data/csdmc_malware.txt'\n",
    "\n",
    "class1_srctext = open(class1_srcfile).readlines()\n",
    "class2_srctext = open(class2_srcfile).readlines()\n",
    "\n",
    "print('Read %d class1 tuples' % len(class1_srctext))\n",
    "print('Read %d class2 tuples' % len(class2_srctext))"
   ]
  },
  {
   "cell_type": "code",
   "execution_count": 3,
   "metadata": {},
   "outputs": [
    {
     "name": "stdout",
     "output_type": "stream",
     "text": [
      "['RegOpenKeyExW\\n', 'LoadLibraryA\\n', 'GetProcAddress\\n', 'GetProcAddress\\n', 'GetProcAddress\\n']\n"
     ]
    }
   ],
   "source": [
    "print(class1_srctext[0:5])"
   ]
  },
  {
   "cell_type": "code",
   "execution_count": 4,
   "metadata": {},
   "outputs": [
    {
     "name": "stdout",
     "output_type": "stream",
     "text": [
      "['LoadLibraryW\\n', 'HeapAlloc\\n', 'HeapAlloc\\n', 'HeapFree\\n', 'HeapAlloc\\n']\n"
     ]
    }
   ],
   "source": [
    "print(class2_srctext[0:5])"
   ]
  },
  {
   "cell_type": "markdown",
   "metadata": {},
   "source": [
    "### Set configurable parameters\n",
    "\n",
    "1. Set the dimensions of the input and the embedding. Because of the hierarchical nature of the network, the input has to be a 3-dimensional tensor of fixed size (sample_size x n_sentences x n_words). \n",
    "   <br>MAX_SENT_LEN : the number of words in each sentence (a word in any token appearing in a process action tuple). \n",
    "   <br>MAX_SENTS : the number of sentences in each document.\n",
    "   <br>MAX_NB_WORDS : the size of the word encoding (number of most frequent words to keep in the vocabulary)\n",
    "   <br>**Note:** MAX_NB_WORDS is automatically adjusted to match the action tuples vocabulary size\n",
    "   <br>EMBEDDING_DIM : the dimensionality of the word embedding\n",
    "   <br>GRU_UNITS: the dimensionality of the GRU layers\n",
    "   <br>CONTEXT_DIM: the dimensionality of attention layers\n",
    "<br><br>   \n",
    "2. Set the runtime parameters:\n",
    "   <br>MAX_FIELDS: number of fields to include form each process action tuple\n",
    "   <br>BY_PROCESS: if True, indicates stratified sampling by process, i.e., actions in one process are either training or test\n",
    "   <br>if false, sampling is done at a seqnece (sentence) level\n",
    "   <br>use_ratio, balance_ratio, over_sample: control how sampling is done to oprionally balance class distribution\n",
    "<br><br> \n",
    "3. Set the learning hyper-parameters:\n",
    "   <br>LEARN_RATE: learning rate\n",
    "   <br>REG_PARAM:  regularization parameter\n",
    "   <br>BATCH_SIZE: number of sequences to include per training batch\n",
    "   <br>NUM_EPOCHS: number of training epochs"
   ]
  },
  {
   "cell_type": "code",
   "execution_count": 5,
   "metadata": {
    "collapsed": true,
    "scrolled": true
   },
   "outputs": [],
   "source": [
    "# Sequence/sentence dimensions\n",
    "MAX_FIELDS      = 1                      # which tuple fields to include from dataset\n",
    "MAX_SENT_LENGTH = 20 * MAX_FIELDS        # multiple of MAX_FIELDS tuples\n",
    "MAX_SENTS       = 5\n",
    "MAX_NB_WORDS    = 100000    # much higher than we expect in the vocabulary, will be adjusted based on actual vocab size\n",
    "MIN_FREQ        = 0         # limit vocabulary size by token frequency\n",
    "SENT_SEPARATOR  = '<eos>'\n",
    "BY_PROCESS      = True      # sample and split by process or by sequence\n",
    "train_split     = 0.9       # training/validation split\n",
    "use_ratio       = 1.0       # limit training size if needed\n",
    "balance_ratio   = -1        # ratio to balance classes in multiples of the under-represented class, use -1 for no balancing\n",
    "over_sample     = False     # balance by over sampling the minority class, otherwise under sample the majority class\n",
    "\n",
    "# Model definition parameters\n",
    "USE_WORD2VEC  = True       # initialize embeddings with pre-trained word2vec weights\n",
    "ORDER_DOCS    = False       # order sequences by length prior to training - not needed since lengths are mostly equal\n",
    "EMBEDDING_DIM = 50\n",
    "GRU_UNITS     = 100\n",
    "CONTEXT_DIM   = 100\n",
    "\n",
    "# Learning hyper-parameters\n",
    "REG_PARAM     = 1e-13\n",
    "LEARN_RATE    = 0.01\n",
    "BATCH_SIZE    = 32\n",
    "NUM_EPOCHS    = 20"
   ]
  },
  {
   "cell_type": "markdown",
   "metadata": {},
   "source": [
    "### Function to process input action tuples to construct sentences, sequences and labels"
   ]
  },
  {
   "cell_type": "code",
   "execution_count": 6,
   "metadata": {
    "collapsed": true,
    "scrolled": true
   },
   "outputs": [],
   "source": [
    "def get_sequences(source_text, label, proc_start=0):\n",
    "    global sentences, labels, texts, processes\n",
    "    token_count = 0\n",
    "    sent_count  = 0\n",
    "    seq_count   = 0\n",
    "    total_count = 0\n",
    "    total_sent  = 0\n",
    "    total_seq   = 0\n",
    "    total_proc  = 0\n",
    "    text  = ''\n",
    "    sents = []\n",
    "    \n",
    "    for line in source_text:\n",
    "        line   = line.strip().lower()\n",
    "        line = re.sub('\\s+', ' ', line).strip()\n",
    "        tokens = line.split()[0:MAX_FIELDS]\n",
    "        text  += ' '.join(tokens) + ' '\n",
    "        #tokens = line.split()\n",
    "        #text  += line + ' '\n",
    "        token_count += len(tokens)\n",
    "        total_count += len(tokens)\n",
    "    \n",
    "        if token_count >= MAX_SENT_LENGTH or tokens[0] == SENT_SEPARATOR:\n",
    "            sents.append(text.strip())\n",
    "            sent_count += 1\n",
    "            total_sent += 1\n",
    "            token_count = 0\n",
    "            text = ''\n",
    "        \n",
    "        if sent_count == MAX_SENTS or tokens[0] == SENT_SEPARATOR:\n",
    "            texts.append(' '.join(sents))\n",
    "            sentences.append(sents)\n",
    "            seq_count += 1\n",
    "            total_seq += 1\n",
    "            sents      = []\n",
    "            sent_count = 0\n",
    "            if tokens[0] == SENT_SEPARATOR:\n",
    "                proc_end   = proc_start + seq_count\n",
    "                processes.append([proc_start, proc_end, seq_count, label])\n",
    "                proc_start = proc_end\n",
    "                seq_count = 0\n",
    "                total_proc += 1\n",
    "\n",
    "    labels = np.concatenate((labels, np.repeat(label, total_seq)), axis=0)\n",
    "    print('Processed sequences for label = %d' % label)\n",
    "    print('Processes = %d' % total_proc)\n",
    "    print('Sequences = %d' % total_seq)\n",
    "    print('Sentences = %d' % total_sent)\n",
    "    print('Tokens    = %d' % total_count)\n",
    "    \n",
    "    return proc_end"
   ]
  },
  {
   "cell_type": "markdown",
   "metadata": {},
   "source": [
    "#### Transform input data into sequences and sentences, with labels"
   ]
  },
  {
   "cell_type": "code",
   "execution_count": 7,
   "metadata": {},
   "outputs": [
    {
     "name": "stdout",
     "output_type": "stream",
     "text": [
      "Processed sequences for label = 0\n",
      "Processes = 68\n",
      "Sequences = 13336\n",
      "Sentences = 66534\n",
      "Tokens    = 1329976\n",
      "Processed sequences for label = 1\n",
      "Processes = 320\n",
      "Sequences = 13329\n",
      "Sentences = 66041\n",
      "Tokens    = 1317776\n",
      "Total # of processes       = 388\n",
      "Total # of text sequences  = 26665\n",
      "Total # of sentence groups = 26665\n",
      "Total # of labels          = 26665\n"
     ]
    }
   ],
   "source": [
    "# Extract sequences and sentences from clean and ransom source text\n",
    "sentences = []\n",
    "labels    = np.empty(0)\n",
    "texts     = []\n",
    "processes = []\n",
    "\n",
    "next_proc_start = 0\n",
    "next_proc_start = get_sequences(class1_srctext, 0, proc_start = next_proc_start)\n",
    "next_proc_start = get_sequences(class2_srctext, 1, proc_start = next_proc_start)\n",
    "\n",
    "print('Total # of processes       = %d' % len(processes))\n",
    "print('Total # of text sequences  = %d' % len(texts))\n",
    "print('Total # of sentence groups = %d' % len(sentences))\n",
    "print('Total # of labels          = %d' % len(labels))"
   ]
  },
  {
   "cell_type": "code",
   "execution_count": 8,
   "metadata": {},
   "outputs": [
    {
     "name": "stdout",
     "output_type": "stream",
     "text": [
      "[[0, 1, 1, 0], [1, 131, 130, 0], [131, 1879, 1748, 0], [1879, 2040, 161, 0], [2040, 2212, 172, 0], [2212, 2214, 2, 0], [2214, 2222, 8, 0], [2222, 2356, 134, 0], [2356, 2365, 9, 0], [2365, 2366, 1, 0]]\n",
      "[[26350, 26372, 22, 1], [26372, 26477, 105, 1], [26477, 26539, 62, 1], [26539, 26562, 23, 1], [26562, 26586, 24, 1], [26586, 26619, 33, 1], [26619, 26629, 10, 1], [26629, 26643, 14, 1], [26643, 26664, 21, 1], [26664, 26665, 1, 1]]\n"
     ]
    }
   ],
   "source": [
    "print(processes[0:10])\n",
    "print(processes[-10:])"
   ]
  },
  {
   "cell_type": "code",
   "execution_count": 9,
   "metadata": {},
   "outputs": [
    {
     "name": "stdout",
     "output_type": "stream",
     "text": [
      "regopenkeyexw loadlibrarya getprocaddress getprocaddress getprocaddress getprocaddress getprocaddress loadlibrarya getprocaddress getprocaddress loadlibrarya getprocaddress regopenkeyexa freelibrary getprocaddress getprocaddress getprocaddress getmodulehandlea getprocaddress getmodulehandlea getprocaddress regcreatekeyexa <eos>\n"
     ]
    }
   ],
   "source": [
    "print(texts[0])\n",
    "#print(texts[10])"
   ]
  },
  {
   "cell_type": "markdown",
   "metadata": {},
   "source": [
    "#### Extract the process action vocabulary using a Keras tokenizer"
   ]
  },
  {
   "cell_type": "code",
   "execution_count": 10,
   "metadata": {},
   "outputs": [
    {
     "name": "stdout",
     "output_type": "stream",
     "text": [
      "Total 316 unique tokens.\n",
      "Vocabulary size with frequency > 0 = 316\n",
      "Max number of words = 317\n"
     ]
    }
   ],
   "source": [
    "tokenizer = Tokenizer(num_words=MAX_NB_WORDS)\n",
    "tokenizer.fit_on_texts(texts)\n",
    "\n",
    "word_index = tokenizer.word_index\n",
    "print('Total %s unique tokens.' % len(word_index))\n",
    "\n",
    "# limit vocabulary size by token frequence\n",
    "vocab = [k for k in tokenizer.word_counts.keys() if tokenizer.word_counts[k] > MIN_FREQ]\n",
    "print('Vocabulary size with frequency > %d = %d' % (MIN_FREQ, len(vocab)))\n",
    "\n",
    "if len(vocab) < MAX_NB_WORDS:\n",
    "    MAX_NB_WORDS = len(vocab) + 1      # index 0 is not used\n",
    "\n",
    "print('Max number of words = %d' % MAX_NB_WORDS)"
   ]
  },
  {
   "cell_type": "code",
   "execution_count": 11,
   "metadata": {
    "collapsed": true
   },
   "outputs": [],
   "source": [
    "#print(tokenizer.word_counts)\n",
    "#print(tokenizer.texts_to_matrix(sentences[0][0], mode='binary'))"
   ]
  },
  {
   "cell_type": "markdown",
   "metadata": {},
   "source": [
    "#### Transform the data into the 3D format required for the tensors"
   ]
  },
  {
   "cell_type": "code",
   "execution_count": 12,
   "metadata": {
    "collapsed": true,
    "scrolled": true
   },
   "outputs": [],
   "source": [
    "data = np.zeros((len(sentences), MAX_SENTS, MAX_SENT_LENGTH), dtype='float32')\n",
    "doc_lst = []\n",
    "\n",
    "# keep the MAX_NB_WORDS most frequent words and replace the rest with 'UNK'\n",
    "# truncate to the first MAX_SENTS sentences per doc and MAX_SENT_LENGTH words per sentence\n",
    "\n",
    "for i, sentence in enumerate(sentences):\n",
    "    for j, sent in enumerate(sentence):\n",
    "        if j < MAX_SENTS:\n",
    "            wordTokens = text_to_word_sequence(sent)\n",
    "            k = 0\n",
    "            words_in_sent = []\n",
    "            for _, word in enumerate(wordTokens):\n",
    "                if k < MAX_SENT_LENGTH: \n",
    "                    if (word in tokenizer.word_index) and (tokenizer.word_index[word] < MAX_NB_WORDS):\n",
    "                        data[i, j, k] = tokenizer.word_index[word]\n",
    "                        words_in_sent.append(word)\n",
    "                    else:\n",
    "                        data[i, j, k] = MAX_NB_WORDS\n",
    "                        words_in_sent.append('UNK')\n",
    "                    k = k + 1\n",
    "            doc_lst.append(words_in_sent)"
   ]
  },
  {
   "cell_type": "code",
   "execution_count": 13,
   "metadata": {},
   "outputs": [
    {
     "name": "stdout",
     "output_type": "stream",
     "text": [
      "(26665, 5, 20) 132575\n",
      "(26665,)\n",
      "2\n",
      "23\n"
     ]
    }
   ],
   "source": [
    "print(data.shape, len(doc_lst))\n",
    "#print(data.shape)\n",
    "print(labels.shape)\n",
    "print(len(sentences[0]))\n",
    "print(len(texts[0].split()))"
   ]
  },
  {
   "cell_type": "markdown",
   "metadata": {},
   "source": [
    "#### Convert the class labels to one-hot categorical representation"
   ]
  },
  {
   "cell_type": "code",
   "execution_count": 14,
   "metadata": {},
   "outputs": [
    {
     "name": "stdout",
     "output_type": "stream",
     "text": [
      "Shape of data tensor: (26665, 5, 20)\n",
      "Shape of label tensor: (26665, 2)\n"
     ]
    }
   ],
   "source": [
    "y_all = to_categorical(np.asarray(labels)).astype('int32')\n",
    "x_all = data\n",
    "\n",
    "print('Shape of data tensor:', x_all.shape)\n",
    "print('Shape of label tensor:', y_all.shape)"
   ]
  },
  {
   "cell_type": "code",
   "execution_count": 15,
   "metadata": {
    "collapsed": true,
    "scrolled": true
   },
   "outputs": [],
   "source": [
    "n_classes = y_all.shape[1]"
   ]
  },
  {
   "cell_type": "markdown",
   "metadata": {},
   "source": [
    "#### Function to extract word embedding vectors from a pre-trained word2vec model (optional)"
   ]
  },
  {
   "cell_type": "code",
   "execution_count": 16,
   "metadata": {
    "collapsed": true,
    "scrolled": false
   },
   "outputs": [],
   "source": [
    "# train word2vec on the sentences to initialize the word embedding \n",
    "def get_embedding_matrix(sents, word_index, embedding_dim=100, max_num_words=1000):\n",
    "    import gensim, logging\n",
    "\n",
    "    logging.basicConfig(format='%(asctime)s : %(levelname)s : %(message)s', level=logging.INFO)\n",
    "    # use skip-gram\n",
    "    word2vec_model = gensim.models.Word2Vec(sents, min_count=1, size=embedding_dim, sg=1, workers=os.cpu_count())\n",
    "    \n",
    "    # Create the initial embedding matrix from the output of word2vec\n",
    "    embeddings_index = {}\n",
    "\n",
    "    for word in word2vec_model.wv.vocab:\n",
    "        coefs = np.asarray(word2vec_model.wv[word], dtype='float32')\n",
    "        embeddings_index[word] = coefs\n",
    "\n",
    "    # Empty embeddings for padding UNK terms\n",
    "    embeddings_index['UNK'] = np.zeros(embedding_dim, dtype='float32')\n",
    "    \n",
    "    print('Total %s word vectors.' % len(embeddings_index))\n",
    "    \n",
    "    # Initial embedding\n",
    "    embedding_matrix = np.zeros((max_num_words + 1, embedding_dim))\n",
    "\n",
    "    for word, i in word_index.items():\n",
    "        embedding_vector = embeddings_index.get(word)\n",
    "        if embedding_vector is not None and i < max_num_words:\n",
    "            embedding_matrix[i] = embedding_vector\n",
    "        elif i == max_num_words:\n",
    "            # index MAX_NB_WORDS in data corresponds to 'UNK'\n",
    "            embedding_matrix[i] = embeddings_index['UNK']\n",
    "            \n",
    "    return embedding_matrix"
   ]
  },
  {
   "cell_type": "markdown",
   "metadata": {
    "collapsed": true
   },
   "source": [
    "#### Function to define the word embeddings layer, with or without word2vec weights"
   ]
  },
  {
   "cell_type": "code",
   "execution_count": 17,
   "metadata": {
    "collapsed": true,
    "scrolled": false
   },
   "outputs": [],
   "source": [
    "# Define embedding layer structure and optionally initialize weights\n",
    "def get_embedding_layer(embedding_dim=100, embedding_matrix=None, max_num_words=1000, max_sent_length=40, reg_param=1e-13):\n",
    "    l2_reg = regularizers.l2(reg_param)\n",
    "\n",
    "    if embedding_matrix is not None:\n",
    "        # Embedding layer initialized with word2vec coefficients\n",
    "        embedding_layer = Embedding(max_num_words + 1,\n",
    "                            embedding_dim,\n",
    "                            input_length=max_sent_length,\n",
    "                            trainable=True,\n",
    "                            mask_zero=True,\n",
    "                            embeddings_regularizer=l2_reg,\n",
    "                            weights=[embedding_matrix])\n",
    "    else:\n",
    "        # Embedding layer with no pre-trained weiths\n",
    "        embedding_layer = Embedding(max_num_words + 1,\n",
    "                            embedding_dim,\n",
    "                            input_length=max_sent_length,\n",
    "                            trainable=True,\n",
    "                            mask_zero=True,\n",
    "                            embeddings_regularizer=l2_reg)\n",
    "\n",
    "    return embedding_layer"
   ]
  },
  {
   "cell_type": "markdown",
   "metadata": {},
   "source": [
    "#### Definition of a custom layer implementing the attention mechanism"
   ]
  },
  {
   "cell_type": "code",
   "execution_count": 18,
   "metadata": {
    "collapsed": true,
    "scrolled": true
   },
   "outputs": [],
   "source": [
    "class AttLayer(Layer):\n",
    "    def __init__(self, regularizer=None, context_dim=100, **kwargs):\n",
    "        self.regularizer = regularizer\n",
    "        self.context_dim = context_dim\n",
    "        self.supports_masking = True\n",
    "        super(AttLayer, self).__init__(**kwargs)\n",
    "\n",
    "    def build(self, input_shape):\n",
    "        assert len(input_shape) == 3        \n",
    "        self.W = self.add_weight(name='W', shape=(input_shape[-1], self.context_dim), initializer='normal', trainable=True, \n",
    "                                 regularizer=self.regularizer)\n",
    "        self.b = self.add_weight(name='b', shape=(self.context_dim,), initializer='normal', trainable=True, \n",
    "                                 regularizer=self.regularizer)\n",
    "        self.u = self.add_weight(name='u', shape=(self.context_dim,), initializer='normal', trainable=True, \n",
    "                                 regularizer=self.regularizer)        \n",
    "        super(AttLayer, self).build(input_shape)  # be sure you call this somewhere!\n",
    "\n",
    "    def call(self, x, mask=None):\n",
    "        eij = K.dot(K.tanh(K.dot(x, self.W) + self.b), K.expand_dims(self.u))\n",
    "        ai = K.exp(eij)\n",
    "        alphas = ai / K.sum(ai, axis=1)\n",
    "        if mask is not None:\n",
    "            # use only the inputs specified by the mask\n",
    "            alphas *= K.expand_dims(mask)\n",
    "        weighted_input = K.dot(K.transpose(x), alphas)\n",
    "        return K.reshape(weighted_input, (weighted_input.shape[0],))\n",
    "\n",
    "    def compute_output_shape(self, input_shape):\n",
    "        return (input_shape[0], input_shape[-1])\n",
    "    \n",
    "    def get_config(self):\n",
    "        config = {}\n",
    "        base_config = super(AttLayer, self).get_config()\n",
    "        return dict(list(base_config.items()) + list(config.items()))\n",
    "\n",
    "    def compute_mask(self, inputs, mask):\n",
    "        return None"
   ]
  },
  {
   "cell_type": "markdown",
   "metadata": {},
   "source": [
    "#### Function to create the network model structure\n",
    "GRU_UNITS is the dimensionality of each GRU output (the number of GRU units). GRU_IMPL = 2 selects a matricized RNN implementation which is more appropriate for training on a GPU. \n",
    "\n",
    "There are two levels of models in the definition. The sentence model `sentEncoder` is shared across all sentences in the input document.   "
   ]
  },
  {
   "cell_type": "code",
   "execution_count": 19,
   "metadata": {
    "collapsed": true,
    "scrolled": true
   },
   "outputs": [],
   "source": [
    "def create_model(n_classes, reg_param=1e-13, embedding_dim=100, embedding_matrix=None, gru_units=100, context_dim=100, max_sents=5, max_sent_length=40, max_num_words=1000):\n",
    "    GPU_IMPL = 2 \n",
    "    l2_reg = regularizers.l2(reg_param)\n",
    "\n",
    "    sentence_input = Input(shape=(max_sent_length,), dtype='float32')\n",
    "    embedding_layer = get_embedding_layer(embedding_dim=embedding_dim, embedding_matrix=embedding_matrix,\n",
    "                                          max_num_words=max_num_words, max_sent_length=max_sent_length, \n",
    "                                          reg_param=reg_param)\n",
    "    embedded_sequences = embedding_layer(sentence_input)\n",
    "    l_lstm = Bidirectional(GRU(gru_units, return_sequences=True, kernel_regularizer=l2_reg, \n",
    "                           implementation=GPU_IMPL))(embedded_sequences)\n",
    "    l_att = AttLayer(regularizer=l2_reg, context_dim=context_dim)(l_lstm)            \n",
    "    sentEncoder = Model(sentence_input, l_att)\n",
    "\n",
    "    doc_input = Input(shape=(max_sents, max_sent_length), dtype='float32')\n",
    "    doc_encoder = TimeDistributed(sentEncoder)(doc_input)\n",
    "    l_lstm_sent = Bidirectional(GRU(gru_units, return_sequences=True, kernel_regularizer=l2_reg, \n",
    "                                implementation=GPU_IMPL))(doc_encoder)\n",
    "    l_att_sent = AttLayer(regularizer=l2_reg, context_dim=context_dim)(l_lstm_sent) \n",
    "    preds = Dense(n_classes, activation='softmax', kernel_regularizer=l2_reg)(l_att_sent)\n",
    "    model = Model(doc_input, preds)\n",
    "    \n",
    "    return model"
   ]
  },
  {
   "cell_type": "markdown",
   "metadata": {},
   "source": [
    "#### Function to train the HAN model (uses 10% of train data for validation)"
   ]
  },
  {
   "cell_type": "code",
   "execution_count": 20,
   "metadata": {
    "collapsed": true,
    "scrolled": true
   },
   "outputs": [],
   "source": [
    "def train(train_x, train_y, model, model_path, batch_size=32, num_epochs=10, reg_param=1e-13, show_hist=True):\n",
    "    set_fixed_random_seed(1)                           # fix a random seed for CNTK components\n",
    "    #set_computation_network_trace_level(1000)         # debugging mode\n",
    "    disable_forward_values_sharing()                   # to debug Titan X NaN loss issue\n",
    "\n",
    "    fname = './csdmc_ransom_detection_f%d' % (MAX_FIELDS)\n",
    "\n",
    "    if USE_WORD2VEC:\n",
    "        filepath = '%s/checkpoint-{epoch:02d}-f%d-dim=%d-w2v-strat-lr=%.2f.hdf5' % (model_path, MAX_FIELDS, EMBEDDING_DIM, LEARN_RATE)\n",
    "    else:\n",
    "        filepath = '%s/checkpoint-{epoch:02d}-f%d-dim=%d-now2v-strat-lr=%.2f.hdf5' % (model_path, MAX_FIELDS, EMBEDDING_DIM, LEARN_RATE)\n",
    "\n",
    "    sgd_optimizer     = optimizers.SGD(lr=LEARN_RATE, nesterov=True)\n",
    "    #sgd_optimizer     = optimizers.SGD(lr=LEARN_RATE, decay=1e-6, momentum=0.9, nesterov=True)\n",
    "    adam_optimizer    = optimizers.Adam(lr=LEARN_RATE, beta_1=0.9, beta_2=0.999, epsilon=1e-08, decay=0.0)\n",
    "    adagrad_optimizer = optimizers.Adagrad(lr=LEARN_RATE, epsilon=1e-08, decay=0.0)\n",
    "    \n",
    "    model.compile(loss='categorical_crossentropy',\n",
    "              optimizer=sgd_optimizer,\n",
    "              metrics=['acc'])\n",
    "    model.summary()\n",
    "\n",
    "    train_x = train_x.astype(np.float32)\n",
    "    #train_y = train_y.astype(np.float32)\n",
    "    \n",
    "    # set callback functions\n",
    "    history = History()\n",
    "    csv_logger = CSVLogger('./{0}_{1}.log'.format(fname, reg_param), separator=',', append=True)\n",
    "    checkpoint = ModelCheckpoint(filepath=filepath, verbose=1, save_best_only=False)\n",
    " \n",
    "    print(str(datetime.now()))\n",
    "    t1 = time.time()\n",
    "    # for final training, train without validation split\n",
    "    # hist_results = model.fit(train_x[ind,:,:], train_y[ind,:], epochs=num_epochs, batch_size=batch_size, shuffle=False, \n",
    "    #          callbacks=[checkpoint, history, csv_logger], verbose=2)\n",
    "    hist_results = model.fit(train_x, train_y, epochs=num_epochs, batch_size=batch_size, validation_split=0.1, shuffle=False, \n",
    "          callbacks=[checkpoint, history, csv_logger], verbose=2)\n",
    "\n",
    "    t2 = time.time()\n",
    "    print(str(datetime.now()))\n",
    "    print('Training time = %.3f' % (t2 - t1))\n",
    "    \n",
    "    if show_hist:\n",
    "        show_history(hist_results)\n",
    "    \n",
    "    return model, hist_results"
   ]
  },
  {
   "cell_type": "markdown",
   "metadata": {},
   "source": [
    "#### Function to train the HAN model and validate using a separate validation set"
   ]
  },
  {
   "cell_type": "code",
   "execution_count": 21,
   "metadata": {
    "collapsed": true
   },
   "outputs": [],
   "source": [
    "def train_validate(train_x, train_y, test_x, test_y, model, model_path, batch_size=32, num_epochs=10, reg_param=1e-13, show_hist=True):\n",
    "    set_fixed_random_seed(1)                           # fix a random seed for CNTK components\n",
    "    #set_computation_network_trace_level(1000)         # debugging mode\n",
    "    disable_forward_values_sharing()                   # to debug Titan X NaN loss issue\n",
    "\n",
    "    fname = './csdmc_ransom_detection_f%d' % (MAX_FIELDS)\n",
    "\n",
    "    if USE_WORD2VEC:\n",
    "        filepath = '%s/checkpoint-{epoch:02d}-f%d-dim=%d-w2v-strat-lr=%.2f.hdf5' % (model_path, MAX_FIELDS, EMBEDDING_DIM, LEARN_RATE)\n",
    "    else:\n",
    "        filepath = '%s/checkpoint-{epoch:02d}-f%d-dim=%d-now2v-strat-lr=%.2f.hdf5' % (model_path, MAX_FIELDS, EMBEDDING_DIM, LEARN_RATE)\n",
    "\n",
    "    sgd_optimizer     = optimizers.SGD(lr=LEARN_RATE, nesterov=True)\n",
    "    #sgd_optimizer     = optimizers.SGD(lr=LEARN_RATE, decay=1e-6, momentum=0.9, nesterov=True)\n",
    "    adam_optimizer    = optimizers.Adam(lr=LEARN_RATE, beta_1=0.9, beta_2=0.999, epsilon=1e-08, decay=0.0)\n",
    "    adagrad_optimizer = optimizers.Adagrad(lr=LEARN_RATE, epsilon=1e-08, decay=0.0)\n",
    "    \n",
    "    model.compile(loss='categorical_crossentropy',\n",
    "              optimizer=sgd_optimizer,\n",
    "              metrics=['acc'])\n",
    "    model.summary()\n",
    "\n",
    "    train_x = train_x.astype(np.float32)\n",
    "    #train_y = train_y.astype(np.float32)\n",
    "    \n",
    "    # set callback functions\n",
    "    history = History()\n",
    "    csv_logger = CSVLogger('./{0}_{1}.log'.format(fname, reg_param), separator=',', append=True)\n",
    "    checkpoint = ModelCheckpoint(filepath=filepath, verbose=1, save_best_only=False)\n",
    " \n",
    "    print(str(datetime.now()))\n",
    "    t1 = time.time()\n",
    "    hist_results = model.fit(train_x, train_y, epochs=num_epochs, batch_size=batch_size, validation_data=(test_x, test_y), shuffle=False, \n",
    "          callbacks=[checkpoint, history, csv_logger], verbose=2)\n",
    "\n",
    "    t2 = time.time()\n",
    "    print(str(datetime.now()))\n",
    "    print('Training time = %.3f' % (t2 - t1))\n",
    "    \n",
    "    if show_hist:\n",
    "        show_history(hist_results)\n",
    "    \n",
    "    return model, hist_results"
   ]
  },
  {
   "cell_type": "markdown",
   "metadata": {},
   "source": [
    "#### Function to evaluate a trained HAN model using a test set and save prediction results"
   ]
  },
  {
   "cell_type": "code",
   "execution_count": 22,
   "metadata": {
    "collapsed": true,
    "scrolled": true
   },
   "outputs": [],
   "source": [
    "def evaluate(test_x, test_y, model, save=False, outfile=None):\n",
    "    test_x = test_x.astype(np.float32)\n",
    "    #test_y = test_y.astype(np.float32)\n",
    "\n",
    "    print(str(datetime.now()))\n",
    "    t1    = time.time()\n",
    "    preds = model.predict(test_x)\n",
    "    t2    = time.time()\n",
    "    print(str(datetime.now()))\n",
    "    tdiff = t2 - t1\n",
    "    print('Evaluation time for %d sequences = %.3f secs --> %.6f sec/sequence\\n' % \n",
    "                                (len(preds), tdiff, tdiff/len(preds)))\n",
    "\n",
    "    #print(preds.shape, test_y.shape)\n",
    "    y_true = np.zeros(test_y.shape[0])\n",
    "    y_true[y_test[:,1] == 1] = 1\n",
    "    y_pred = preds.argmax(axis=1)\n",
    "    print(\"Accuracy = {0} \\t AUC = {1}\".format(accuracy_score(y_true, y_pred),\n",
    "                                           roc_auc_score(y_true, y_pred)))\n",
    "    print('Confusion matrix:')\n",
    "    print(confusion_matrix(y_true, y_pred))\n",
    "    \n",
    "    # Plot ROC curve\n",
    "    fpr, tpr, _ = roc_curve(y_true, y_pred)\n",
    "    plot(fpr, tpr)\n",
    "    xlabel('FPR')\n",
    "    ylabel('TPR')\n",
    "\n",
    "    # Save prediction results for offline analysis\n",
    "    if save and outfile is not None:\n",
    "        ff = open(ofname, 'w')\n",
    "        pid = 0\n",
    "        sid = 0\n",
    "        if BY_PROCESS:\n",
    "            ff.write('test_pid\\tproc_sid\\tseq_state\\ty_true\\ty_pred\\tprob[0]\\tprob[1]\\tmatch?\\n')\n",
    "            for i in range(len(y_true)):\n",
    "                match = (y_true[i] == y_pred[i])\n",
    "                if text_test[i].endswith('<eos>'):\n",
    "                    seq = '<eos>'\n",
    "                else:\n",
    "                    seq = '<inp>'\n",
    "                ff.write('%d\\t%d\\t%s\\t%d\\t%d\\t%10.8f\\t%10.8f\\t%d\\n' % (pid, sid, seq, y_true[i], y_pred[i], preds[i, 0], preds[i, 1], match))\n",
    "                if text_test[i].endswith('<eos>'):\n",
    "                    pid += 1\n",
    "                    sid = 0\n",
    "                else:\n",
    "                    sid += 1\n",
    "        else:\n",
    "            ff.write('test_sid\\tseq_state\\ty_true\\ty_pred\\tprob[0]\\tprob[1]\\tmatch?\\n')\n",
    "            for i in range(len(y_true)):\n",
    "                match = (y_true[i] == y_pred[i])\n",
    "                if text_test[i].endswith('<eos>'):\n",
    "                    seq = '<eos>'\n",
    "                else:\n",
    "                    seq = '<inp>'\n",
    "                ff.write('%d\\t%s\\t%d\\t%d\\t%10.8f\\t%10.8f\\t%d\\n' % (sid, seq, y_true[i], y_pred[i], preds[i, 0], preds[i, 1], match))\n",
    "                sid += 1 \n",
    "        ff.close()\n",
    "        print('Results saved in %s' % outfile)\n",
    "    return"
   ]
  },
  {
   "cell_type": "markdown",
   "metadata": {},
   "source": [
    "#### Function to report training and validation progress during model training"
   ]
  },
  {
   "cell_type": "code",
   "execution_count": 23,
   "metadata": {
    "collapsed": true,
    "scrolled": true
   },
   "outputs": [],
   "source": [
    "def show_history(history):\n",
    "    # list all data in history\n",
    "    print(history.history.keys())\n",
    "\n",
    "    # summarize history for accuracy\n",
    "    plt.plot(history.history['acc'])\n",
    "    plt.plot(history.history['val_acc'])\n",
    "    plt.title('model accuracy')\n",
    "    plt.ylabel('accuracy')\n",
    "    plt.xlabel('epoch')\n",
    "    plt.legend(['train', 'valid'], loc='upper left')\n",
    "    plt.show()\n",
    "\n",
    "    # summarize history for loss\n",
    "    plt.plot(history.history['loss'])\n",
    "    plt.plot(history.history['val_loss'])\n",
    "    plt.title('model loss')\n",
    "    plt.ylabel('loss')\n",
    "    plt.xlabel('epoch')\n",
    "    plt.legend(['train', 'valid'], loc='upper left')\n",
    "    plt.show()\n",
    "    \n",
    "    return"
   ]
  },
  {
   "cell_type": "markdown",
   "metadata": {},
   "source": [
    "### Begin model training process\n",
    "If USE_WORD2VEC is Ture, train word2vec on all documents in order to initialize the word embedding. Do not ignore rare words (min_count=1). Use skip-gram as the training algorithm (sg=1).<br><br>\n",
    "**Note:** Using a pre-trained word2vec model is not required if training data is large enough. Experiments with and without pre-training word2vec model produces similar results using the hackathon training data and a few training epochs. The word embeddings are learned in the first 1-2 training epochs."
   ]
  },
  {
   "cell_type": "code",
   "execution_count": 24,
   "metadata": {},
   "outputs": [
    {
     "name": "stderr",
     "output_type": "stream",
     "text": [
      "c:\\anaconda3\\envs\\python35\\lib\\site-packages\\gensim\\utils.py:862: UserWarning: detected Windows; aliasing chunkize to chunkize_serial\n",
      "  warnings.warn(\"detected Windows; aliasing chunkize to chunkize_serial\")\n",
      "2018-01-30 11:04:38,767 : WARNING : consider setting layer size to a multiple of 4 for greater performance\n",
      "2018-01-30 11:04:38,768 : INFO : collecting all words and their counts\n",
      "2018-01-30 11:04:38,770 : INFO : PROGRESS: at sentence #0, processed 0 words, keeping 0 word types\n",
      "2018-01-30 11:04:38,805 : INFO : PROGRESS: at sentence #10000, processed 199973 words, keeping 74 word types\n",
      "2018-01-30 11:04:38,837 : INFO : PROGRESS: at sentence #20000, processed 399717 words, keeping 153 word types\n",
      "2018-01-30 11:04:38,871 : INFO : PROGRESS: at sentence #30000, processed 599659 words, keeping 162 word types\n",
      "2018-01-30 11:04:38,906 : INFO : PROGRESS: at sentence #40000, processed 799618 words, keeping 164 word types\n",
      "2018-01-30 11:04:38,942 : INFO : PROGRESS: at sentence #50000, processed 999441 words, keeping 188 word types\n",
      "2018-01-30 11:04:38,974 : INFO : PROGRESS: at sentence #60000, processed 1199338 words, keeping 196 word types\n",
      "2018-01-30 11:04:39,006 : INFO : PROGRESS: at sentence #70000, processed 1399092 words, keeping 261 word types\n",
      "2018-01-30 11:04:39,045 : INFO : PROGRESS: at sentence #80000, processed 1598689 words, keeping 290 word types\n",
      "2018-01-30 11:04:39,077 : INFO : PROGRESS: at sentence #90000, processed 1798128 words, keeping 293 word types\n",
      "2018-01-30 11:04:39,110 : INFO : PROGRESS: at sentence #100000, processed 1997752 words, keeping 295 word types\n",
      "2018-01-30 11:04:39,146 : INFO : PROGRESS: at sentence #110000, processed 2197185 words, keeping 297 word types\n",
      "2018-01-30 11:04:39,177 : INFO : PROGRESS: at sentence #120000, processed 2396872 words, keeping 297 word types\n",
      "2018-01-30 11:04:39,217 : INFO : PROGRESS: at sentence #130000, processed 2596397 words, keeping 309 word types\n",
      "2018-01-30 11:04:39,229 : INFO : collected 309 word types from a corpus of 2647767 raw words and 132575 sentences\n",
      "2018-01-30 11:04:39,231 : INFO : Loading a fresh vocabulary\n",
      "2018-01-30 11:04:39,235 : INFO : min_count=1 retains 309 unique words (100% of original 309, drops 0)\n",
      "2018-01-30 11:04:39,237 : INFO : min_count=1 leaves 2647767 word corpus (100% of original 2647767, drops 0)\n",
      "2018-01-30 11:04:39,241 : INFO : deleting the raw counts dictionary of 309 items\n",
      "2018-01-30 11:04:39,244 : INFO : sample=0.001 downsamples 26 most-common words\n",
      "2018-01-30 11:04:39,245 : INFO : downsampling leaves estimated 543336 word corpus (20.5% of prior 2647767)\n",
      "2018-01-30 11:04:39,247 : INFO : estimated required memory for 309 words and 50 dimensions: 278100 bytes\n",
      "2018-01-30 11:04:39,251 : INFO : resetting layer weights\n",
      "2018-01-30 11:04:39,260 : INFO : training model with 24 workers on 309 vocabulary and 50 features, using sg=1 hs=0 sample=0.001 negative=5 window=5\n",
      "2018-01-30 11:04:40,293 : INFO : PROGRESS: at 23.63% examples, 619601 words/s, in_qsize 48, out_qsize 2\n",
      "2018-01-30 11:04:41,295 : INFO : PROGRESS: at 50.57% examples, 664890 words/s, in_qsize 44, out_qsize 3\n",
      "2018-01-30 11:04:42,296 : INFO : PROGRESS: at 77.15% examples, 691468 words/s, in_qsize 46, out_qsize 1\n",
      "2018-01-30 11:04:43,052 : INFO : worker thread finished; awaiting finish of 23 more threads\n",
      "2018-01-30 11:04:43,061 : INFO : worker thread finished; awaiting finish of 22 more threads\n",
      "2018-01-30 11:04:43,069 : INFO : worker thread finished; awaiting finish of 21 more threads\n",
      "2018-01-30 11:04:43,084 : INFO : worker thread finished; awaiting finish of 20 more threads\n",
      "2018-01-30 11:04:43,089 : INFO : worker thread finished; awaiting finish of 19 more threads\n",
      "2018-01-30 11:04:43,091 : INFO : worker thread finished; awaiting finish of 18 more threads\n",
      "2018-01-30 11:04:43,092 : INFO : worker thread finished; awaiting finish of 17 more threads\n",
      "2018-01-30 11:04:43,093 : INFO : worker thread finished; awaiting finish of 16 more threads\n",
      "2018-01-30 11:04:43,095 : INFO : worker thread finished; awaiting finish of 15 more threads\n",
      "2018-01-30 11:04:43,096 : INFO : worker thread finished; awaiting finish of 14 more threads\n",
      "2018-01-30 11:04:43,097 : INFO : worker thread finished; awaiting finish of 13 more threads\n",
      "2018-01-30 11:04:43,098 : INFO : worker thread finished; awaiting finish of 12 more threads\n",
      "2018-01-30 11:04:43,100 : INFO : worker thread finished; awaiting finish of 11 more threads\n",
      "2018-01-30 11:04:43,101 : INFO : worker thread finished; awaiting finish of 10 more threads\n",
      "2018-01-30 11:04:43,102 : INFO : worker thread finished; awaiting finish of 9 more threads\n",
      "2018-01-30 11:04:43,103 : INFO : worker thread finished; awaiting finish of 8 more threads\n",
      "2018-01-30 11:04:43,104 : INFO : worker thread finished; awaiting finish of 7 more threads\n",
      "2018-01-30 11:04:43,105 : INFO : worker thread finished; awaiting finish of 6 more threads\n",
      "2018-01-30 11:04:43,106 : INFO : worker thread finished; awaiting finish of 5 more threads\n",
      "2018-01-30 11:04:43,107 : INFO : worker thread finished; awaiting finish of 4 more threads\n",
      "2018-01-30 11:04:43,107 : INFO : worker thread finished; awaiting finish of 3 more threads\n",
      "2018-01-30 11:04:43,108 : INFO : worker thread finished; awaiting finish of 2 more threads\n",
      "2018-01-30 11:04:43,109 : INFO : worker thread finished; awaiting finish of 1 more threads\n",
      "2018-01-30 11:04:43,110 : INFO : worker thread finished; awaiting finish of 0 more threads\n",
      "2018-01-30 11:04:43,111 : INFO : training on 13238835 raw words (2716665 effective words) took 3.8s, 709531 effective words/s\n"
     ]
    },
    {
     "name": "stdout",
     "output_type": "stream",
     "text": [
      "Total 310 word vectors.\n"
     ]
    }
   ],
   "source": [
    "# Set random seed\n",
    "np.random.seed(seed=12345)\n",
    "\n",
    "if USE_WORD2VEC:\n",
    "    embedding_matrix = get_embedding_matrix(doc_lst, word_index, embedding_dim=EMBEDDING_DIM, max_num_words=MAX_NB_WORDS)\n",
    "else:\n",
    "    embedding_matrix = None"
   ]
  },
  {
   "cell_type": "markdown",
   "metadata": {},
   "source": [
    "**Prepare train/test data split**"
   ]
  },
  {
   "cell_type": "markdown",
   "metadata": {},
   "source": [
    "Extract a balanced subsample (optional) and split into training and test sets."
   ]
  },
  {
   "cell_type": "code",
   "execution_count": 25,
   "metadata": {
    "collapsed": true,
    "scrolled": true
   },
   "outputs": [],
   "source": [
    "if BY_PROCESS:\n",
    "    num_samples = len(processes)\n",
    "    train_size  = np.int(num_samples * use_ratio * train_split)\n",
    "    test_size   = np.int(num_samples * use_ratio) - train_size\n",
    "    random_idx  = np.random.permutation(num_samples)\n",
    "    ptrain_idx, ptest_idx = random_idx[:train_size], random_idx[-test_size:]\n",
    "    p_train, p_test = [processes[i] for i in ptrain_idx], [processes[i] for i in ptest_idx]\n",
    "\n",
    "    train_idx, test_idx = [], []\n",
    "    for i, proc in enumerate(p_train):\n",
    "        train_idx.extend(range(proc[0], proc[1]))\n",
    "        np.random.shuffle(train_idx)\n",
    "    for i, proc in enumerate(p_test):\n",
    "        test_idx.extend(range(proc[0], proc[1]))\n",
    "        #np.random.shuffle(test_idx)\n",
    "else:\n",
    "    num_samples = data.shape[0]\n",
    "    train_size  = np.int(num_samples * use_ratio * train_split)\n",
    "    test_size   = np.int(num_samples * use_ratio) - train_size\n",
    "    random_idx  = np.random.permutation(num_samples)\n",
    "    train_idx, test_idx = random_idx[:train_size], random_idx[-test_size:]\n",
    "\n",
    "# Balance label distribution if balance_ratio > 0.0\n",
    "if balance_ratio > 0.0:\n",
    "    class_distrib = np.unique(y_all[train_idx,1], return_counts=True)\n",
    "    print('Original training class distribution = ', class_distrib)\n",
    "    min_rep_class = class_distrib[0][np.argsort(class_distrib[1])[0]]\n",
    "    max_rep_class = class_distrib[0][np.argsort(class_distrib[1])[-1]]\n",
    "    train_idx     = np.asarray(train_idx)\n",
    "    idx_min_class = train_idx[y_all[train_idx,1] == min_rep_class]\n",
    "    idx_max_class = train_idx[y_all[train_idx,1] == max_rep_class]\n",
    "    if over_sample:\n",
    "        #min_rep_incl  = int(class_distrib[1][max_rep_class] / balance_ratio)\n",
    "        new_idx_min_class = np.zeros(0, dtype= np.int)\n",
    "        for i in range(int(balance_ratio)):\n",
    "            new_idx_min_class = np.concatenate((new_idx_min_class, idx_min_class), axis=0)      # repeat min_class samples to min_rep_incl\n",
    "        idx_min_class = new_idx_min_class\n",
    "    else:\n",
    "        max_rep_incl  = int(class_distrib[1][min_rep_class] * balance_ratio)\n",
    "        idx_max_class = idx_max_class[:max_rep_incl]                                # limit max_class samples to max_rep_incl\n",
    "\n",
    "    train_idx     = np.concatenate((idx_min_class, idx_max_class), axis=0)      # merge positive and negative samples\n",
    "    np.random.shuffle(train_idx)                                                # reshuffle train indices\n",
    "    print('Final training class distribution    = ', np.unique(y_all[train_idx,1], return_counts=True))\n",
    "    \n",
    "x_train, x_test = x_all[train_idx,:], x_all[test_idx,:]\n",
    "y_train, y_test = y_all[train_idx,:], y_all[test_idx,:]\n",
    "#sent_train, sent_test = [sentences[i] for i in train_idx], [sentences[i] for i in test_idx]\n",
    "text_train, text_test = [texts[i] for i in train_idx], [texts[i] for i in test_idx]"
   ]
  },
  {
   "cell_type": "code",
   "execution_count": 26,
   "metadata": {},
   "outputs": [
    {
     "name": "stdout",
     "output_type": "stream",
     "text": [
      "388 349 39\n",
      "(array([0, 1]), array([11409, 12061], dtype=int64))\n",
      "(array([0, 1]), array([1927, 1268], dtype=int64))\n",
      "23470 3195\n"
     ]
    }
   ],
   "source": [
    "print(num_samples, train_size, test_size)\n",
    "print(np.unique(y_train[:,1], return_counts=True))\n",
    "print(np.unique(y_test[:,1],  return_counts=True))\n",
    "#print(len(sent_train), len(sent_test))\n",
    "print(len(text_train), len(text_test))"
   ]
  },
  {
   "cell_type": "markdown",
   "metadata": {},
   "source": [
    "**Note:** Ordering documents is not necessary for process analysis since number of sentences if fixed.<br>\n",
    "If ORDER_DOCS is True, order training data by the number of sentences in document (as suggested in the [Yang et al.] paper)."
   ]
  },
  {
   "cell_type": "code",
   "execution_count": 27,
   "metadata": {
    "collapsed": true,
    "scrolled": true
   },
   "outputs": [],
   "source": [
    "if ORDER_DOCS:\n",
    "    doc_lengths = [len(r.split()) for r in text_train]\n",
    "    ind = np.argsort(doc_lengths)\n",
    "    #print(ind)\n",
    "    #print(doc_lengths[ind[0:10]])\n",
    "    #print(text_train[ind[0:10]])\n",
    "    x_train = x_train[ind,:,:]\n",
    "    y_train = y_train[ind,:]"
   ]
  },
  {
   "cell_type": "markdown",
   "metadata": {},
   "source": [
    "#### Build and train Hierarchical Attention Network model"
   ]
  },
  {
   "cell_type": "code",
   "execution_count": 28,
   "metadata": {
    "scrolled": false
   },
   "outputs": [
    {
     "name": "stdout",
     "output_type": "stream",
     "text": [
      "_________________________________________________________________\n",
      "Layer (type)                 Output Shape              Param #   \n",
      "=================================================================\n",
      "input_2 (InputLayer)         (None, 5, 20)             0         \n",
      "_________________________________________________________________\n",
      "time_distributed_1 (TimeDist (None, 5, 200)            126700    \n",
      "_________________________________________________________________\n",
      "bidirectional_2 (Bidirection (None, 5, 200)            180600    \n",
      "_________________________________________________________________\n",
      "att_layer_2 (AttLayer)       (None, 200)               20200     \n",
      "_________________________________________________________________\n",
      "dense_1 (Dense)              (None, 2)                 402       \n",
      "=================================================================\n",
      "Total params: 327,902\n",
      "Trainable params: 327,902\n",
      "Non-trainable params: 0\n",
      "_________________________________________________________________\n",
      "2018-01-30 11:04:44.495854\n",
      "Train on 23470 samples, validate on 3195 samples\n",
      "Epoch 1/20\n",
      "Epoch 00000: saving model to ./checkpoints/checkpoint-00-f1-dim=50-w2v-strat-lr=0.01.hdf5\n",
      "63s - loss: 0.5967 - acc: 0.6847 - val_loss: 0.5265 - val_acc: 0.7430\n",
      "Epoch 2/20\n",
      "Epoch 00001: saving model to ./checkpoints/checkpoint-01-f1-dim=50-w2v-strat-lr=0.01.hdf5\n",
      "63s - loss: 0.5029 - acc: 0.7757 - val_loss: 0.5013 - val_acc: 0.7584\n",
      "Epoch 3/20\n",
      "Epoch 00002: saving model to ./checkpoints/checkpoint-02-f1-dim=50-w2v-strat-lr=0.01.hdf5\n",
      "61s - loss: 0.4579 - acc: 0.7997 - val_loss: 0.4734 - val_acc: 0.7803\n",
      "Epoch 4/20\n",
      "Epoch 00003: saving model to ./checkpoints/checkpoint-03-f1-dim=50-w2v-strat-lr=0.01.hdf5\n",
      "59s - loss: 0.4250 - acc: 0.8185 - val_loss: 0.4624 - val_acc: 0.7953\n",
      "Epoch 5/20\n",
      "Epoch 00004: saving model to ./checkpoints/checkpoint-04-f1-dim=50-w2v-strat-lr=0.01.hdf5\n",
      "57s - loss: 0.4060 - acc: 0.8265 - val_loss: 0.4577 - val_acc: 0.7987\n",
      "Epoch 6/20\n",
      "Epoch 00005: saving model to ./checkpoints/checkpoint-05-f1-dim=50-w2v-strat-lr=0.01.hdf5\n",
      "58s - loss: 0.3921 - acc: 0.8292 - val_loss: 0.4678 - val_acc: 0.7969\n",
      "Epoch 7/20\n",
      "Epoch 00006: saving model to ./checkpoints/checkpoint-06-f1-dim=50-w2v-strat-lr=0.01.hdf5\n",
      "60s - loss: 0.3832 - acc: 0.8345 - val_loss: 0.4623 - val_acc: 0.7975\n",
      "Epoch 8/20\n",
      "Epoch 00007: saving model to ./checkpoints/checkpoint-07-f1-dim=50-w2v-strat-lr=0.01.hdf5\n",
      "60s - loss: 0.3738 - acc: 0.8379 - val_loss: 0.4708 - val_acc: 0.7912\n",
      "Epoch 9/20\n",
      "Epoch 00008: saving model to ./checkpoints/checkpoint-08-f1-dim=50-w2v-strat-lr=0.01.hdf5\n",
      "62s - loss: 0.3600 - acc: 0.8446 - val_loss: 0.4524 - val_acc: 0.8125\n",
      "Epoch 10/20\n",
      "Epoch 00009: saving model to ./checkpoints/checkpoint-09-f1-dim=50-w2v-strat-lr=0.01.hdf5\n",
      "62s - loss: 0.3505 - acc: 0.8484 - val_loss: 0.4704 - val_acc: 0.8081\n",
      "Epoch 11/20\n",
      "Epoch 00010: saving model to ./checkpoints/checkpoint-10-f1-dim=50-w2v-strat-lr=0.01.hdf5\n",
      "59s - loss: 0.3422 - acc: 0.8526 - val_loss: 0.4447 - val_acc: 0.8247\n",
      "Epoch 12/20\n",
      "Epoch 00011: saving model to ./checkpoints/checkpoint-11-f1-dim=50-w2v-strat-lr=0.01.hdf5\n",
      "60s - loss: 0.3341 - acc: 0.8562 - val_loss: 0.4554 - val_acc: 0.8222\n",
      "Epoch 13/20\n",
      "Epoch 00012: saving model to ./checkpoints/checkpoint-12-f1-dim=50-w2v-strat-lr=0.01.hdf5\n",
      "62s - loss: 0.3285 - acc: 0.8588 - val_loss: 0.4569 - val_acc: 0.8225\n",
      "Epoch 14/20\n",
      "Epoch 00013: saving model to ./checkpoints/checkpoint-13-f1-dim=50-w2v-strat-lr=0.01.hdf5\n",
      "61s - loss: 0.3209 - acc: 0.8625 - val_loss: 0.4441 - val_acc: 0.8272\n",
      "Epoch 15/20\n",
      "Epoch 00014: saving model to ./checkpoints/checkpoint-14-f1-dim=50-w2v-strat-lr=0.01.hdf5\n",
      "62s - loss: 0.3148 - acc: 0.8643 - val_loss: 0.4583 - val_acc: 0.8232\n",
      "Epoch 16/20\n",
      "Epoch 00015: saving model to ./checkpoints/checkpoint-15-f1-dim=50-w2v-strat-lr=0.01.hdf5\n",
      "59s - loss: 0.3092 - acc: 0.8672 - val_loss: 0.4376 - val_acc: 0.8347\n",
      "Epoch 17/20\n",
      "Epoch 00016: saving model to ./checkpoints/checkpoint-16-f1-dim=50-w2v-strat-lr=0.01.hdf5\n",
      "62s - loss: 0.3040 - acc: 0.8703 - val_loss: 0.4724 - val_acc: 0.8144\n",
      "Epoch 18/20\n",
      "Epoch 00017: saving model to ./checkpoints/checkpoint-17-f1-dim=50-w2v-strat-lr=0.01.hdf5\n",
      "61s - loss: 0.2980 - acc: 0.8732 - val_loss: 0.4377 - val_acc: 0.8401\n",
      "Epoch 19/20\n",
      "Epoch 00018: saving model to ./checkpoints/checkpoint-18-f1-dim=50-w2v-strat-lr=0.01.hdf5\n",
      "62s - loss: 0.2932 - acc: 0.8764 - val_loss: 0.4595 - val_acc: 0.8182\n",
      "Epoch 20/20\n",
      "Epoch 00019: saving model to ./checkpoints/checkpoint-19-f1-dim=50-w2v-strat-lr=0.01.hdf5\n",
      "61s - loss: 0.2881 - acc: 0.8791 - val_loss: 0.4576 - val_acc: 0.8197\n",
      "2018-01-30 11:25:08.449340\n",
      "Training time = 1223.952\n",
      "dict_keys(['val_loss', 'loss', 'acc', 'val_acc'])\n"
     ]
    },
    {
     "data": {
      "image/png": "[encoded data removed]",
      "text/plain": [
       "<matplotlib.figure.Figure at 0x1915593be80>"
      ]
     },
     "metadata": {},
     "output_type": "display_data"
    },
    {
     "data": {
      "image/png": "[encoded data removed]",
      "text/plain": [
       "<matplotlib.figure.Figure at 0x191611519e8>"
      ]
     },
     "metadata": {},
     "output_type": "display_data"
    }
   ],
   "source": [
    "# create model\n",
    "model = create_model(n_classes, reg_param=REG_PARAM,\n",
    "                     embedding_dim=EMBEDDING_DIM, embedding_matrix=embedding_matrix,\n",
    "                     gru_units=GRU_UNITS, context_dim=CONTEXT_DIM, \n",
    "                     max_sents=MAX_SENTS, max_sent_length=MAX_SENT_LENGTH, max_num_words=MAX_NB_WORDS)\n",
    "\n",
    "filepath = './checkpoints'\n",
    "# Train and validate using 10% of the training set\n",
    "#model, history = train(x_train, y_train, model, model_path=filepath, \n",
    "#                              batch_size=BATCH_SIZE, num_epochs=NUM_EPOCHS, reg_param=REG_PARAM, show_hist=True)\n",
    "\n",
    "# Train and validate using a separate validation set\n",
    "model, history = train_validate(x_train, y_train, x_test, y_test, model, model_path=filepath, \n",
    "                              batch_size=BATCH_SIZE, num_epochs=NUM_EPOCHS, reg_param=REG_PARAM, show_hist=True)"
   ]
  },
  {
   "cell_type": "markdown",
   "metadata": {},
   "source": [
    "#### Evaluate the model using the test set and report performance results"
   ]
  },
  {
   "cell_type": "code",
   "execution_count": 29,
   "metadata": {},
   "outputs": [
    {
     "name": "stdout",
     "output_type": "stream",
     "text": [
      "2018-01-30 11:25:08.915299\n",
      "2018-01-30 11:25:11.665321\n",
      "Evaluation time for 3195 sequences = 2.750 secs --> 0.000861 sec/sequence\n",
      "\n",
      "Accuracy = 0.819718309859155 \t AUC = 0.8149442015260479\n",
      "Confusion matrix:\n",
      "[[1615  312]\n",
      " [ 264 1004]]\n",
      "Results saved in ./results/pred_results-sent=5-f1-w2v-strat-epoch=20-lr=0.01.txt\n"
     ]
    },
    {
     "data": {
      "image/png": "[encoded data removed]",
      "text/plain": [
       "<matplotlib.figure.Figure at 0x1915494c7b8>"
      ]
     },
     "metadata": {},
     "output_type": "display_data"
    }
   ],
   "source": [
    "if USE_WORD2VEC:\n",
    "    ofname = './results/pred_results-sent=%d-f%d-w2v-strat-epoch=%d-lr=%.2f.txt' % (MAX_SENTS, MAX_FIELDS, NUM_EPOCHS, LEARN_RATE)\n",
    "else:\n",
    "    ofname = './results/pred_results-sent=%d-f%d-now2v-strat-epoch=%d-lr=%.2f.txt' % (MAX_SENTS, MAX_FIELDS, NUM_EPOCHS, LEARN_RATE)\n",
    "evaluate(x_test, y_test, model, save=True, outfile=ofname)"
   ]
  },
  {
   "cell_type": "markdown",
   "metadata": {},
   "source": [
    "### Report and save performance summary statistics per sequence and per overall process\n",
    "**Note:** Per process performance below takes a majority vote of all sequences in the process in order to determine the predicted process label, i.e., process label = class label with more sequences predicted.<br><br>\n",
    "This is a rudimentary heuristic for demonstration purposes only. Per sequence labels are more critical for the application of process analysis. A runtime heuristic is needed in order to decide when to terminate a suspicious process."
   ]
  },
  {
   "cell_type": "code",
   "execution_count": 30,
   "metadata": {},
   "outputs": [
    {
     "name": "stdout",
     "output_type": "stream",
     "text": [
      "Sequence Confusion Matrix\n",
      "Predicted     0     1  __all__\n",
      "Actual                        \n",
      "0          1615   312     1927\n",
      "1           264  1004     1268\n",
      "__all__    1879  1316     3195\n",
      "Class 0: Recall = 83.80902958 Precision = 85.94997339\n",
      "Class 1: Recall = 79.17981073 Precision = 76.29179331\n",
      "Overall Accuracy = 0.819718309859155 \t AUC = 0.8149442015260479\n",
      "\n",
      "Process Confusion Matrix\n",
      "Predicted  0   1  __all__\n",
      "Actual                   \n",
      "0          6   0        6\n",
      "1          0  33       33\n",
      "__all__    6  33       39\n",
      "Class 0: Recall = 100.00000000 Precision = 100.00000000\n",
      "Class 1: Recall = 100.00000000 Precision = 100.00000000\n",
      "Overall Accuracy = 1.0 \t AUC = 1.0\n",
      "\n",
      "Per process results and performance summary saved to ./results/pred_summary-sent=5-f1-w2v-strat-epoch=20-lr=0.01.txt\n"
     ]
    }
   ],
   "source": [
    "import pandas as pd\n",
    "from pandas_confusion import ConfusionMatrix\n",
    "\n",
    "# Get performance per process\n",
    "df  = pd.read_csv(ofname, sep='\\t', header=0, encoding='utf-8')\n",
    "df1 = pd.pivot_table(df, values='proc_sid', index=['test_pid', 'y_true'], columns='y_pred', aggfunc='count', fill_value=0)\n",
    "df1['total'] = df1[0] + df1[1]\n",
    "df1['%_0'] = df1[0] * 100 / df1['total']\n",
    "df1['%_1'] = df1[1] * 100 / df1['total']\n",
    "df1['proc_label'] = df1[1] > df1[0]\n",
    "df1['proc_label'] = df1['proc_label'].astype(np.int)\n",
    "sfname = ofname.replace('pred_results', 'pred_summary')\n",
    "df1.to_csv(sfname, sep='\\t', index=True, index_label='test_pid\\ty_true', encoding='utf-8')\n",
    "\n",
    "# Get confusion matrix and overall performance metrics\n",
    "y_true = df['y_true']\n",
    "y_pred = df['y_pred']\n",
    "confusion_mtx = ConfusionMatrix(y_true, y_pred)\n",
    "print('Sequence Confusion Matrix')\n",
    "print(confusion_mtx)\n",
    "#confusion_mtx.plot()\n",
    "plt.show()\n",
    "\n",
    "ff = open(sfname, 'a')\n",
    "print('=========================================================================', file=ff)\n",
    "print('Sequence Confusion Matrix', file=ff)\n",
    "print(confusion_mtx, file=ff)\n",
    "print('=========================================================================', file=ff)\n",
    "\n",
    "cm = confusion_mtx.to_dataframe()\n",
    "correct=0\n",
    "print('Sequence Performance metrics', file=ff)\n",
    "for i in range(cm.shape[0]):\n",
    "    correct += cm.iloc[i][i]\n",
    "    prec   = cm.iloc[i][i] * 100.0 / cm.sum(axis=0)[i]\n",
    "    recall = cm.iloc[i][i] * 100.0 / cm.sum(axis=1)[i]\n",
    "    print('Class %s: Recall = %.8f Precision = %.8f' % (cm.columns[i], recall, prec))\n",
    "    print('Class %s: Recall = %.8f Precision = %.8f' % (cm.columns[i], recall, prec), file=ff)\n",
    "#print('Overall accuracy = %.4f' % float(correct * 100.0 / sum(cm.sum(axis=0))))\n",
    "#print('Overall accuracy = %.4f' % float(correct * 100.0 / sum(cm.sum(axis=0))), file=ff)\n",
    "print(\"Overall Accuracy = {0} \\t AUC = {1}\".format(accuracy_score(y_true, y_pred), roc_auc_score(y_true, y_pred)))\n",
    "print(\"Overall Accuracy = {0} \\t AUC = {1}\".format(accuracy_score(y_true, y_pred), roc_auc_score(y_true, y_pred)), file=ff)\n",
    "#print('=========================================================================', file=ff)\n",
    "print('')\n",
    "\n",
    "# Get process-level confusion matrix and overall performance metrics\n",
    "df2 = pd.DataFrame(columns=['y_true', 'y_pred'])\n",
    "df2['y_true'] = pd.Series(df1.index.get_level_values(1))\n",
    "df2['y_pred'] = df1['proc_label'].values\n",
    "y_true = df2['y_true']\n",
    "y_pred = df2['y_pred']\n",
    "confusion_mtx = ConfusionMatrix(y_true, y_pred)\n",
    "print('Process Confusion Matrix')\n",
    "print(confusion_mtx)\n",
    "#confusion_mtx.plot()\n",
    "plt.show()\n",
    "\n",
    "print('=========================================================================', file=ff)\n",
    "print('Process Confusion Matrix', file=ff)\n",
    "print(confusion_mtx, file=ff)\n",
    "print('=========================================================================', file=ff)\n",
    "\n",
    "cm = confusion_mtx.to_dataframe()\n",
    "correct=0\n",
    "print('Process Performance metrics', file=ff)\n",
    "for i in range(cm.shape[0]):\n",
    "    correct += cm.iloc[i][i]\n",
    "    prec   = cm.iloc[i][i] * 100.0 / cm.sum(axis=0)[i]\n",
    "    recall = cm.iloc[i][i] * 100.0 / cm.sum(axis=1)[i]\n",
    "    print('Class %s: Recall = %.8f Precision = %.8f' % (cm.columns[i], recall, prec))\n",
    "    print('Class %s: Recall = %.8f Precision = %.8f' % (cm.columns[i], recall, prec), file=ff)\n",
    "#print('Overall accuracy = %.4f' % float(correct * 100.0 / sum(cm.sum(axis=0))))\n",
    "#print('Overall accuracy = %.4f' % float(correct * 100.0 / sum(cm.sum(axis=0))), file=ff)\n",
    "print(\"Overall Accuracy = {0} \\t AUC = {1}\".format(accuracy_score(y_true, y_pred), roc_auc_score(y_true, y_pred)))\n",
    "print(\"Overall Accuracy = {0} \\t AUC = {1}\".format(accuracy_score(y_true, y_pred), roc_auc_score(y_true, y_pred)), file=ff)\n",
    "print('=========================================================================', file=ff)\n",
    "\n",
    "ff.close()\n",
    "\n",
    "print('\\nPer process results and performance summary saved to %s' % sfname)"
   ]
  },
  {
   "cell_type": "code",
   "execution_count": null,
   "metadata": {
    "collapsed": true,
    "scrolled": true
   },
   "outputs": [],
   "source": []
  }
 ],
 "metadata": {
  "kernelspec": {
   "display_name": "Python 3",
   "language": "python",
   "name": "python3"
  },
  "language_info": {
   "codemirror_mode": {
    "name": "ipython",
    "version": 3
   },
   "file_extension": ".py",
   "mimetype": "text/x-python",
   "name": "python",
   "nbconvert_exporter": "python",
   "pygments_lexer": "ipython3",
   "version": "3.5.3"
  }
 },
 "nbformat": 4,
 "nbformat_minor": 2
}
