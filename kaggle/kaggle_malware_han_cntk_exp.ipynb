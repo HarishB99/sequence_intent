{
 "cells": [
  {
   "cell_type": "markdown",
   "metadata": {},
   "source": [
    "# Kaggle Malware Analysis Using Hierarchical Attention Networks"
   ]
  },
  {
   "cell_type": "markdown",
   "metadata": {},
   "source": [
    "### Problem description\n",
    "Static malware detection aims to identify a malicious executable/binary file *without running it* on a host system. In this notebook we demonstrate malware detection using a subset of the [Microsoft Malware Classification Challenge (BIG 2015)](https://www.kaggle.com/c/malware-classification), to identify two classes of malware (class 1 and 2 for example: Ramnit and Lollipop). The datasets consist of disassembly dumps of binary files, generated using the IDA disassembler tool.\n",
    "\n",
    "This is a sample from the .text section in a disassembled executable file:\n",
    "\n",
    "![Disassembled code sample](sampleIDAKaggle.png)\n",
    "\n",
    "### Proposed solution\n",
    "The solution demonstrated in this notebook is inspired by the domain of natural language processing, and document classification in particular. Determining the sentiment and/or topic expressed in a text document requires a deeper understanding of the words, sentences, language structure, writing style, and syntactic and semantic structure of the document.\n",
    "\n",
    "Yang, Zichao et al proposed a [hierachical attention network for document classification](https://www.microsoft.com/en-us/research/wp-content/uploads/2017/06/Hierarchical-Attention-Networks-for-Document-Classification.pdf)), presented at [NAACL 2016](http://aclweb.org/anthology/N/N16/). The solution leverages the hierarchical structure of a document, from words to sentences to documents, mirrored in a multi-layer [recurrent neural network](https://en.wikipedia.org/wiki/Recurrent_neural_network) with special *attention* layers applied at the word and the sentence levels. The architecture of the Hierarchical Attention Network (HAN) is shown in the figure below. The overall process is nicely  described in details in this [blog](https://explosion.ai/blog/deep-learning-formula-nlp).\n",
    "\n",
    "![Hierarchical Attention Network](HierachicalAttention.png)\n",
    "\n",
    "We propose a static malware detection solution that leverages multi-layers of *memory and understanding* of the sequence of operations in the disassembly information based on hiearchical attention networks. If we think of the sequence of assembly code operations as analogous to sequence of words in text, and groups of operations as sentences, classifying patterns of assembly code could then be viewed as classifying documents.\n",
    "\n",
    "![HAN for process analysis](HAN-proc-analysis1.png)\n",
    "\n",
    "### Some implementation details\n",
    "1. Data format: Disassembly dumps are represented as tab-separated tuples of (operation, operand #1, operand #2, ..). \n",
    "2. Pre-processing: Fields other than assembly operations are normalized to limit their variations. For e.g., memory addresses, files/folders are represented in a shortened form to collapse many values to a representative normalized form.\n",
    "3. Any number of fields can be included in model training, as defined in the parameter MAX_FIELDS.\n",
    "4. Each field in a process action tuple is equivalent to a *word*.\n",
    "5. Number of words per *sentence* and number of sentences in a *document* are configurable.\n",
    "6. Word embeddings can be initialized using pre-trained vectors, or left uninitialized. Defined by parameter USE_WORD2VEC.\n",
    "7. Other configurable options define various network dimensions, learning hyper-parameters, data sampling options, etc.\n",
    "8. Deep learning framework: Keras with a CNTK backend, with GPU support."
   ]
  },
  {
   "cell_type": "markdown",
   "metadata": {},
   "source": [
    "The HAN code in this notebook is based on the LSTM HAN implementation found in this [GitHub notebook](https://github.com/anargyri/lstm_han/blob/master/hatt_archive_cntk.ipynb) by Andreas Argyriou. The base notebook is based on [Richard Liao's implementation of hierarchical attention networks](https://github.com/richliao/textClassifier/blob/master/textClassifierHATT.py) and a related [Google group discussion](https://groups.google.com/forum/#!topic/keras-users/IWK9opMFavQ). The notebook also includes code from [Keras documentation](https://keras.io/) and [blog](https://blog.keras.io/using-pre-trained-word-embeddings-in-a-keras-model.html) as well as this [word2vec tutorial](http://adventuresinmachinelearning.com/gensim-word2vec-tutorial/)."
   ]
  },
  {
   "cell_type": "code",
   "execution_count": 1,
   "metadata": {},
   "outputs": [
    {
     "name": "stdout",
     "output_type": "stream",
     "text": [
      "Populating the interactive namespace from numpy and matplotlib\n"
     ]
    },
    {
     "name": "stderr",
     "output_type": "stream",
     "text": [
      "Using CNTK backend\n"
     ]
    }
   ],
   "source": [
    "%matplotlib inline\n",
    "%pylab inline\n",
    "\n",
    "import numpy as np\n",
    "import os \n",
    "import time\n",
    "import re\n",
    "from datetime import datetime\n",
    "import matplotlib.pyplot as plt\n",
    "\n",
    "os.environ['KERAS_BACKEND'] = 'cntk'\n",
    "from cntk.device import try_set_default_device, gpu, cpu\n",
    "from cntk.cntk_py import set_fixed_random_seed\n",
    "from cntk.cntk_py import set_computation_network_trace_level, set_checked_mode\n",
    "from cntk.cntk_py import force_deterministic_algorithms, disable_forward_values_sharing\n",
    "from cntk.debugging import debug_model\n",
    "\n",
    "# Set default device - negative for cpu (optional)\n",
    "gpu_device = 1\n",
    "if gpu_device >= 0:\n",
    "    try_set_default_device(gpu(gpu_device))\n",
    "else:\n",
    "    try_set_default_device(cpu())\n",
    "\n",
    "from keras.preprocessing.text import Tokenizer, text_to_word_sequence\n",
    "from keras.preprocessing.sequence import pad_sequences\n",
    "from keras.utils.np_utils import to_categorical\n",
    "from keras.optimizers import SGD, Adam, Adagrad\n",
    "\n",
    "from keras.layers import Embedding\n",
    "from keras.layers import Dense, Input, Flatten\n",
    "from keras.layers import Conv1D, MaxPooling1D, Embedding, Merge, Dropout, LSTM, GRU, Bidirectional, TimeDistributed\n",
    "from keras.models import Model, load_model\n",
    "\n",
    "from keras import backend as K\n",
    "from keras.engine.topology import Layer, InputSpec\n",
    "from keras import initializers, regularizers, optimizers\n",
    "from keras.callbacks import History, CSVLogger, ModelCheckpoint\n",
    "\n",
    "from sklearn.metrics import accuracy_score, roc_auc_score, roc_curve, confusion_matrix"
   ]
  },
  {
   "cell_type": "markdown",
   "metadata": {},
   "source": [
    "### Read clean and ransomware Action -> Target tuples from files"
   ]
  },
  {
   "cell_type": "code",
   "execution_count": 2,
   "metadata": {},
   "outputs": [
    {
     "name": "stdout",
     "output_type": "stream",
     "text": [
      "Read 23813917 class1 tuples\n",
      "Read 17441432 class2 tuples\n"
     ]
    }
   ],
   "source": [
    "class1_srcfile = './data/Malware_class1_ng2a.txt'\n",
    "class2_srcfile = './data/Malware_class2_ng2a.txt'\n",
    "\n",
    "class1_srctext = open(class1_srcfile).readlines()\n",
    "class2_srctext = open(class2_srcfile).readlines()\n",
    "\n",
    "print('Read %d class1 tuples' % len(class1_srctext))\n",
    "print('Read %d class2 tuples' % len(class2_srctext))"
   ]
  },
  {
   "cell_type": "code",
   "execution_count": 3,
   "metadata": {},
   "outputs": [
    {
     "name": "stdout",
     "output_type": "stream",
     "text": [
      "['text egment para public UPP use\\n', 'assume cs text\\n', 'assume es othing ss othing ds data fs othing gs othing\\n', 'sub proc near\\n', 'var dword ptr op Ch\\n']\n"
     ]
    }
   ],
   "source": [
    "print(class1_srctext[0:5])"
   ]
  },
  {
   "cell_type": "code",
   "execution_count": 4,
   "metadata": {},
   "outputs": [
    {
     "name": "stdout",
     "output_type": "stream",
     "text": [
      "['include uni inc\\n', 'p\\n', 'mmx\\n', 'model flat\\n', 'text egment para public UPP use\\n']\n"
     ]
    }
   ],
   "source": [
    "print(class2_srctext[0:5])"
   ]
  },
  {
   "cell_type": "markdown",
   "metadata": {},
   "source": [
    "### Set configurable parameters\n",
    "\n",
    "1. Set the dimensions of the input and the embedding. Because of the hierarchical nature of the network, the input has to be a 3-dimensional tensor of fixed size (sample_size x n_sentences x n_words). \n",
    "   <br>MAX_SENT_LEN : the number of words in each sentence (a word in any token appearing in a process action tuple). \n",
    "   <br>MAX_SENTS : the number of sentences in each document.\n",
    "   <br>MAX_NB_WORDS : the size of the word encoding (number of most frequent words to keep in the vocabulary)\n",
    "   <br>**Note:** MAX_NB_WORDS is automatically adjusted to match the action tuples vocabulary size\n",
    "   <br>EMBEDDING_DIM : the dimensionality of the word embedding\n",
    "   <br>GRU_UNITS: the dimensionality of the GRU layers\n",
    "   <br>CONTEXT_DIM: the dimensionality of attention layers\n",
    "<br><br>   \n",
    "2. Set the runtime parameters:\n",
    "   <br>MAX_FIELDS: number of fields to include form each process action tuple\n",
    "   <br>BY_PROCESS: if True, indicates stratified sampling by process/executable, i.e., actions in one process are either training or test\n",
    "   <br>if false, sampling is done at a seqnece (sentence) level\n",
    "   <br>use_ratio, balance_ratio, over_sample: control how sampling is done to oprionally balance class distribution\n",
    "<br><br> \n",
    "3. Set the learning hyper-parameters:\n",
    "   <br>LEARN_RATE: learning rate\n",
    "   <br>REG_PARAM:  regularization parameter\n",
    "   <br>BATCH_SIZE: number of sequences to include per training batch\n",
    "   <br>NUM_EPOCHS: number of training epochs"
   ]
  },
  {
   "cell_type": "code",
   "execution_count": 5,
   "metadata": {
    "collapsed": true,
    "scrolled": true
   },
   "outputs": [],
   "source": [
    "# Sequence/sentence dimensions\n",
    "MAX_FIELDS      = 2                      # which tuple fields to include from dataset\n",
    "MAX_SENT_LENGTH = 20 * MAX_FIELDS        # multiple of MAX_FIELDS tuples\n",
    "MAX_SENTS       = 5\n",
    "MAX_NB_WORDS    = 100000    # maximum vocabulary size to include, if too high actual vocab size will be used\n",
    "MIN_FREQ        = 10        # (optional) limit vocabulary size by token frequency\n",
    "SENT_SEPARATOR  = '<eos>'\n",
    "BY_PROCESS      = True      # sample and split by process or by sequence\n",
    "use_ratio       = 1.0       # limit training size if needed\n",
    "balance_ratio   = -1        # ratio to balance classes in multiples of the under-represented class, use -1 for no balancing\n",
    "over_sample     = False     # balance by over sampling the minority class, otherwise under sample the majority class\n",
    "\n",
    "# Model definition parameters\n",
    "USE_WORD2VEC  = False       # initialize embeddings with pre-trained word2vec weights\n",
    "ORDER_DOCS    = False       # order sequences by length prior to training - not needed since lengths are mostly equal\n",
    "EMBEDDING_DIM = 50\n",
    "GRU_UNITS     = 100\n",
    "CONTEXT_DIM   = 100\n",
    "\n",
    "# Learning hyper-parameters\n",
    "REG_PARAM     = 1e-13\n",
    "LEARN_RATE    = 0.01\n",
    "BATCH_SIZE    = 32\n",
    "NUM_EPOCHS    = 20"
   ]
  },
  {
   "cell_type": "markdown",
   "metadata": {},
   "source": [
    "### Function to process input action tuples to construct sentences, sequences and labels"
   ]
  },
  {
   "cell_type": "code",
   "execution_count": 6,
   "metadata": {
    "collapsed": true,
    "scrolled": true
   },
   "outputs": [],
   "source": [
    "def get_sequences(source_text, label, proc_start=0):\n",
    "    global sentences, labels, texts, processes\n",
    "    token_count = 0\n",
    "    sent_count  = 0\n",
    "    seq_count   = 0\n",
    "    total_count = 0\n",
    "    total_sent  = 0\n",
    "    total_seq   = 0\n",
    "    total_proc  = 0\n",
    "    text  = ''\n",
    "    sents = []\n",
    "    \n",
    "    for line in source_text:\n",
    "        line   = line.strip().lower()\n",
    "        line = re.sub('\\s+', ' ', line).strip()\n",
    "        tokens = line.split()[0:MAX_FIELDS]\n",
    "        text  += ' '.join(tokens) + ' '\n",
    "        #tokens = line.split()\n",
    "        #text  += line + ' '\n",
    "        token_count += len(tokens)\n",
    "        total_count += len(tokens)\n",
    "    \n",
    "        if token_count >= MAX_SENT_LENGTH or tokens[0] == SENT_SEPARATOR:\n",
    "            sents.append(text.strip())\n",
    "            sent_count += 1\n",
    "            total_sent += 1\n",
    "            token_count = 0\n",
    "            text = ''\n",
    "        \n",
    "        if sent_count == MAX_SENTS or tokens[0] == SENT_SEPARATOR:\n",
    "            texts.append(' '.join(sents))\n",
    "            sentences.append(sents)\n",
    "            seq_count += 1\n",
    "            total_seq += 1\n",
    "            sents      = []\n",
    "            sent_count = 0\n",
    "            if tokens[0] == SENT_SEPARATOR:\n",
    "                proc_end   = proc_start + seq_count\n",
    "                processes.append([proc_start, proc_end, seq_count, label])\n",
    "                proc_start = proc_end\n",
    "                seq_count = 0\n",
    "                total_proc += 1\n",
    "\n",
    "    labels = np.concatenate((labels, np.repeat(label, total_seq)), axis=0)\n",
    "    print('Processed sequences for label = %d' % label)\n",
    "    print('Processes = %d' % total_proc)\n",
    "    print('Sequences = %d' % total_seq)\n",
    "    print('Sentences = %d' % total_sent)\n",
    "    print('Tokens    = %d' % total_count)\n",
    "    \n",
    "    return proc_end"
   ]
  },
  {
   "cell_type": "markdown",
   "metadata": {},
   "source": [
    "#### Transform input data into sequences and sentences, with labels"
   ]
  },
  {
   "cell_type": "code",
   "execution_count": 7,
   "metadata": {},
   "outputs": [
    {
     "name": "stdout",
     "output_type": "stream",
     "text": [
      "Processed sequences for label = 0\n",
      "Processes = 424\n",
      "Sequences = 219243\n",
      "Sentences = 1095348\n",
      "Tokens    = 44270882\n",
      "Processed sequences for label = 1\n",
      "Processes = 691\n",
      "Sequences = 151029\n",
      "Sentences = 753759\n",
      "Tokens    = 30444980\n",
      "Total # of processes       = 1115\n",
      "Total # of text sequences  = 370272\n",
      "Total # of sentence groups = 370272\n",
      "Total # of labels          = 370272\n"
     ]
    }
   ],
   "source": [
    "# Extract sequences and sentences from clean and ransom source text\n",
    "sentences = []\n",
    "labels    = np.empty(0)\n",
    "texts     = []\n",
    "processes = []\n",
    "\n",
    "next_proc_start = 0\n",
    "next_proc_start = get_sequences(class1_srctext, 0, proc_start = next_proc_start)\n",
    "next_proc_start = get_sequences(class2_srctext, 1, proc_start = next_proc_start)\n",
    "\n",
    "print('Total # of processes       = %d' % len(processes))\n",
    "print('Total # of text sequences  = %d' % len(texts))\n",
    "print('Total # of sentence groups = %d' % len(sentences))\n",
    "print('Total # of labels          = %d' % len(labels))"
   ]
  },
  {
   "cell_type": "code",
   "execution_count": 8,
   "metadata": {},
   "outputs": [
    {
     "name": "stdout",
     "output_type": "stream",
     "text": [
      "[[0, 6, 6, 0], [6, 372, 366, 0], [372, 446, 74, 0], [446, 1881, 1435, 0], [1881, 1975, 94, 0], [1975, 2183, 208, 0], [2183, 2263, 80, 0], [2263, 2577, 314, 0], [2577, 2804, 227, 0], [2804, 3864, 1060, 0]]\n",
      "[[368876, 368972, 96, 1], [368972, 369270, 298, 1], [369270, 369568, 298, 1], [369568, 369887, 319, 1], [369887, 369914, 27, 1], [369914, 370083, 169, 1], [370083, 370116, 33, 1], [370116, 370155, 39, 1], [370155, 370240, 85, 1], [370240, 370272, 32, 1]]\n"
     ]
    }
   ],
   "source": [
    "print(processes[0:10])\n",
    "print(processes[-10:])"
   ]
  },
  {
   "cell_type": "code",
   "execution_count": 28,
   "metadata": {},
   "outputs": [
    {
     "name": "stdout",
     "output_type": "stream",
     "text": [
      "text egment assume cs assume es sub proc var dword var byte var dword var dword arg dword arg dword arg dword push fff push upp mov regex push regex mov large sub esp mov regex push esi push regex lea regex mov esp call ds mov regex push regex mov regex mov esp call ds mov esi push regex mov regex call ds lea regex mov esp mov byte call ds mov regex mov regex pop esi mov large esp ch retn sub endp align public subs16 subs16 proc object dword module dword msg tagmsg var dword var dword var byte var byte var byte var dword var byte addr dword var byte var byte var dword var dword var dword dest word var byte var byte var byte var dword var dword value dword subs8 dword arg dword push ebp mov ebp and esp sub esp mov regex test regex mov regex push regex push esi mov esp push edi jz loc mov regex jz loc mov regex mov esi lea edi rep movsd movsw xor regex mov regex lea edi rep stosd stosw push lea regex push regex push regex call ds esp ch push regex lea regex\n"
     ]
    }
   ],
   "source": [
    "print(texts[0])\n",
    "#print(texts[10])"
   ]
  },
  {
   "cell_type": "markdown",
   "metadata": {},
   "source": [
    "#### Extract the process action vocabulary using a Keras tokenizer"
   ]
  },
  {
   "cell_type": "code",
   "execution_count": 10,
   "metadata": {},
   "outputs": [
    {
     "name": "stdout",
     "output_type": "stream",
     "text": [
      "Total 25573 unique tokens.\n",
      "Vocabulary size with frequency > 10 = 2844\n",
      "Max number of words = 2845\n"
     ]
    }
   ],
   "source": [
    "tokenizer = Tokenizer(num_words=MAX_NB_WORDS)\n",
    "tokenizer.fit_on_texts(texts)\n",
    "\n",
    "word_index = tokenizer.word_index\n",
    "print('Total %s unique tokens.' % len(word_index))\n",
    "\n",
    "# limit vocabulary size by token frequence\n",
    "vocab = [k for k in tokenizer.word_counts.keys() if tokenizer.word_counts[k] > MIN_FREQ]\n",
    "print('Vocabulary size with frequency > %d = %d' % (MIN_FREQ, len(vocab)))\n",
    "\n",
    "if len(vocab) < MAX_NB_WORDS:\n",
    "    MAX_NB_WORDS = len(vocab) + 1      # index 0 is not used\n",
    "\n",
    "print('Max number of words = %d' % MAX_NB_WORDS)"
   ]
  },
  {
   "cell_type": "code",
   "execution_count": 11,
   "metadata": {
    "collapsed": true
   },
   "outputs": [],
   "source": [
    "#print(tokenizer.word_counts)\n",
    "#print(tokenizer.texts_to_matrix(sentences[0][0], mode='binary'))"
   ]
  },
  {
   "cell_type": "markdown",
   "metadata": {},
   "source": [
    "#### Transform the data into the 3D format required for the tensors"
   ]
  },
  {
   "cell_type": "code",
   "execution_count": 12,
   "metadata": {
    "collapsed": true,
    "scrolled": true
   },
   "outputs": [],
   "source": [
    "data = np.zeros((len(sentences), MAX_SENTS, MAX_SENT_LENGTH), dtype='float32')\n",
    "doc_lst = []\n",
    "\n",
    "# keep the MAX_NB_WORDS most frequent words and replace the rest with 'UNK'\n",
    "# truncate to the first MAX_SENTS sentences per doc and MAX_SENT_LENGTH words per sentence\n",
    "\n",
    "for i, sentence in enumerate(sentences):\n",
    "    for j, sent in enumerate(sentence):\n",
    "        if j < MAX_SENTS:\n",
    "            wordTokens = text_to_word_sequence(sent)\n",
    "            k = 0\n",
    "            words_in_sent = []\n",
    "            for _, word in enumerate(wordTokens):\n",
    "                if k < MAX_SENT_LENGTH: \n",
    "                    if (word in tokenizer.word_index) and (tokenizer.word_index[word] < MAX_NB_WORDS):\n",
    "                        data[i, j, k] = tokenizer.word_index[word]\n",
    "                        words_in_sent.append(word)\n",
    "                    else:\n",
    "                        data[i, j, k] = MAX_NB_WORDS\n",
    "                        words_in_sent.append('UNK')\n",
    "                    k = k + 1\n",
    "            doc_lst.append(words_in_sent)"
   ]
  },
  {
   "cell_type": "code",
   "execution_count": 13,
   "metadata": {},
   "outputs": [
    {
     "name": "stdout",
     "output_type": "stream",
     "text": [
      "(370272, 5, 40) 1849107\n",
      "(370272,)\n",
      "5\n",
      "201\n"
     ]
    }
   ],
   "source": [
    "print(data.shape, len(doc_lst))\n",
    "print(labels.shape)\n",
    "print(len(sentences[0]))\n",
    "print(len(texts[0].split()))"
   ]
  },
  {
   "cell_type": "markdown",
   "metadata": {},
   "source": [
    "#### Convert the class labels to one-hot categorical representation"
   ]
  },
  {
   "cell_type": "code",
   "execution_count": 14,
   "metadata": {},
   "outputs": [
    {
     "name": "stdout",
     "output_type": "stream",
     "text": [
      "Shape of data tensor: (370272, 5, 40)\n",
      "Shape of label tensor: (370272, 2)\n"
     ]
    }
   ],
   "source": [
    "y_all = to_categorical(np.asarray(labels)).astype('int32')\n",
    "x_all = data\n",
    "\n",
    "print('Shape of data tensor:', x_all.shape)\n",
    "print('Shape of label tensor:', y_all.shape)"
   ]
  },
  {
   "cell_type": "code",
   "execution_count": 15,
   "metadata": {
    "collapsed": true,
    "scrolled": true
   },
   "outputs": [],
   "source": [
    "n_classes = y_all.shape[1]"
   ]
  },
  {
   "cell_type": "markdown",
   "metadata": {},
   "source": [
    "#### Function to extract word embedding vectors from a pre-trained word2vec model (optional)"
   ]
  },
  {
   "cell_type": "code",
   "execution_count": 16,
   "metadata": {
    "collapsed": true,
    "scrolled": false
   },
   "outputs": [],
   "source": [
    "# train word2vec on the sentences to initialize the word embedding \n",
    "def get_embedding_matrix(sents, word_index, embedding_dim=100, max_num_words=1000):\n",
    "    import gensim, logging\n",
    "\n",
    "    logging.basicConfig(format='%(asctime)s : %(levelname)s : %(message)s', level=logging.INFO)\n",
    "    # use skip-gram\n",
    "    word2vec_model = gensim.models.Word2Vec(sents, min_count=1, size=embedding_dim, sg=1, workers=os.cpu_count())\n",
    "    \n",
    "    # Create the initial embedding matrix from the output of word2vec\n",
    "    embeddings_index = {}\n",
    "\n",
    "    for word in word2vec_model.wv.vocab:\n",
    "        coefs = np.asarray(word2vec_model.wv[word], dtype='float32')\n",
    "        embeddings_index[word] = coefs\n",
    "\n",
    "    # Empty embeddings for padding UNK terms\n",
    "    embeddings_index['UNK'] = np.zeros(embedding_dim, dtype='float32')\n",
    "    \n",
    "    print('Total %s word vectors.' % len(embeddings_index))\n",
    "    \n",
    "    # Initial embedding\n",
    "    embedding_matrix = np.zeros((max_num_words + 1, embedding_dim))\n",
    "\n",
    "    for word, i in word_index.items():\n",
    "        embedding_vector = embeddings_index.get(word)\n",
    "        if embedding_vector is not None and i < max_num_words:\n",
    "            embedding_matrix[i] = embedding_vector\n",
    "        elif i == max_num_words:\n",
    "            # index MAX_NB_WORDS in data corresponds to 'UNK'\n",
    "            embedding_matrix[i] = embeddings_index['UNK']\n",
    "            \n",
    "    return embedding_matrix"
   ]
  },
  {
   "cell_type": "markdown",
   "metadata": {
    "collapsed": true
   },
   "source": [
    "#### Function to define the word embeddings layer, with or without word2vec weights"
   ]
  },
  {
   "cell_type": "code",
   "execution_count": 17,
   "metadata": {
    "collapsed": true,
    "scrolled": false
   },
   "outputs": [],
   "source": [
    "# Define embedding layer structure and optionally initialize weights\n",
    "def get_embedding_layer(embedding_dim=100, embedding_matrix=None, max_num_words=1000, max_sent_length=40, reg_param=1e-13):\n",
    "    l2_reg = regularizers.l2(reg_param)\n",
    "\n",
    "    if embedding_matrix is not None:\n",
    "        # Embedding layer initialized with word2vec coefficients\n",
    "        embedding_layer = Embedding(max_num_words + 1,\n",
    "                            embedding_dim,\n",
    "                            input_length=max_sent_length,\n",
    "                            trainable=True,\n",
    "                            mask_zero=True,\n",
    "                            embeddings_regularizer=l2_reg,\n",
    "                            weights=[embedding_matrix])\n",
    "    else:\n",
    "        # Embedding layer with no pre-trained weiths\n",
    "        embedding_layer = Embedding(max_num_words + 1,\n",
    "                            embedding_dim,\n",
    "                            input_length=max_sent_length,\n",
    "                            trainable=True,\n",
    "                            mask_zero=True,\n",
    "                            embeddings_regularizer=l2_reg)\n",
    "\n",
    "    return embedding_layer"
   ]
  },
  {
   "cell_type": "markdown",
   "metadata": {},
   "source": [
    "#### Definition of a custom layer implementing the attention mechanism"
   ]
  },
  {
   "cell_type": "code",
   "execution_count": 18,
   "metadata": {
    "collapsed": true,
    "scrolled": true
   },
   "outputs": [],
   "source": [
    "class AttLayer(Layer):\n",
    "    def __init__(self, regularizer=None, context_dim=100, **kwargs):\n",
    "        self.regularizer = regularizer\n",
    "        self.context_dim = context_dim\n",
    "        self.supports_masking = True\n",
    "        super(AttLayer, self).__init__(**kwargs)\n",
    "\n",
    "    def build(self, input_shape):\n",
    "        assert len(input_shape) == 3        \n",
    "        self.W = self.add_weight(name='W', shape=(input_shape[-1], self.context_dim), initializer='normal', trainable=True, \n",
    "                                 regularizer=self.regularizer)\n",
    "        self.b = self.add_weight(name='b', shape=(self.context_dim,), initializer='normal', trainable=True, \n",
    "                                 regularizer=self.regularizer)\n",
    "        self.u = self.add_weight(name='u', shape=(self.context_dim,), initializer='normal', trainable=True, \n",
    "                                 regularizer=self.regularizer)        \n",
    "        super(AttLayer, self).build(input_shape)  # be sure you call this somewhere!\n",
    "\n",
    "    def call(self, x, mask=None):\n",
    "        eij = K.dot(K.tanh(K.dot(x, self.W) + self.b), K.expand_dims(self.u))\n",
    "        ai = K.exp(eij)\n",
    "        alphas = ai / K.sum(ai, axis=1)\n",
    "        if mask is not None:\n",
    "            # use only the inputs specified by the mask\n",
    "            alphas *= K.expand_dims(mask)\n",
    "        weighted_input = K.dot(K.transpose(x), alphas)\n",
    "        return K.reshape(weighted_input, (weighted_input.shape[0],))\n",
    "\n",
    "    def compute_output_shape(self, input_shape):\n",
    "        return (input_shape[0], input_shape[-1])\n",
    "    \n",
    "    def get_config(self):\n",
    "        config = {}\n",
    "        base_config = super(AttLayer, self).get_config()\n",
    "        return dict(list(base_config.items()) + list(config.items()))\n",
    "\n",
    "    def compute_mask(self, inputs, mask):\n",
    "        return None"
   ]
  },
  {
   "cell_type": "markdown",
   "metadata": {},
   "source": [
    "#### Function to create the network model structure\n",
    "GRU_UNITS is the dimensionality of each GRU output (the number of GRU units). GRU_IMPL = 2 selects a matricized RNN implementation which is more appropriate for training on a GPU. \n",
    "\n",
    "There are two levels of models in the definition. The sentence model `sentEncoder` is shared across all sentences in the input document.   "
   ]
  },
  {
   "cell_type": "code",
   "execution_count": 19,
   "metadata": {
    "collapsed": true,
    "scrolled": true
   },
   "outputs": [],
   "source": [
    "def create_model(n_classes, reg_param=1e-13, embedding_dim=100, embedding_matrix=None, gru_units=100, context_dim=100, max_sents=5, max_sent_length=40, max_num_words=1000):\n",
    "    GPU_IMPL = 2 \n",
    "    l2_reg = regularizers.l2(reg_param)\n",
    "\n",
    "    sentence_input = Input(shape=(max_sent_length,), dtype='float32')\n",
    "    embedding_layer = get_embedding_layer(embedding_dim=embedding_dim, embedding_matrix=embedding_matrix,\n",
    "                                          max_num_words=max_num_words, max_sent_length=max_sent_length, \n",
    "                                          reg_param=reg_param)\n",
    "    embedded_sequences = embedding_layer(sentence_input)\n",
    "    l_lstm = Bidirectional(GRU(gru_units, return_sequences=True, kernel_regularizer=l2_reg, \n",
    "                           implementation=GPU_IMPL))(embedded_sequences)\n",
    "    l_att = AttLayer(regularizer=l2_reg, context_dim=context_dim)(l_lstm)            \n",
    "    sentEncoder = Model(sentence_input, l_att)\n",
    "\n",
    "    doc_input = Input(shape=(max_sents, max_sent_length), dtype='float32')\n",
    "    doc_encoder = TimeDistributed(sentEncoder)(doc_input)\n",
    "    l_lstm_sent = Bidirectional(GRU(gru_units, return_sequences=True, kernel_regularizer=l2_reg, \n",
    "                                implementation=GPU_IMPL))(doc_encoder)\n",
    "    l_att_sent = AttLayer(regularizer=l2_reg, context_dim=context_dim)(l_lstm_sent) \n",
    "    preds = Dense(n_classes, activation='softmax', kernel_regularizer=l2_reg)(l_att_sent)\n",
    "    model = Model(doc_input, preds)\n",
    "    \n",
    "    return model"
   ]
  },
  {
   "cell_type": "markdown",
   "metadata": {},
   "source": [
    "#### Function to train the HAN model (uses 10% of train data for validation)"
   ]
  },
  {
   "cell_type": "code",
   "execution_count": 20,
   "metadata": {
    "collapsed": true,
    "scrolled": true
   },
   "outputs": [],
   "source": [
    "def train(train_x, train_y, model, model_path, batch_size=32, num_epochs=10, reg_param=1e-13, show_hist=True):\n",
    "    set_fixed_random_seed(1)                           # fix a random seed for CNTK components\n",
    "    #set_computation_network_trace_level(1000)         # debugging mode\n",
    "    disable_forward_values_sharing()                   # to debug Titan X NaN loss issue\n",
    "\n",
    "    fname = './kaggle_malware_classification_f%d' % (MAX_FIELDS)\n",
    "\n",
    "    if USE_WORD2VEC:\n",
    "        filepath = '%s/checkpoint-{epoch:02d}-f%d-dim=%d-w2v-strat-lr=%.2f.hdf5' % (model_path, MAX_FIELDS, EMBEDDING_DIM, LEARN_RATE)\n",
    "    else:\n",
    "        filepath = '%s/checkpoint-{epoch:02d}-f%d-dim=%d-now2v-strat-lr=%.2f.hdf5' % (model_path, MAX_FIELDS, EMBEDDING_DIM, LEARN_RATE)\n",
    "\n",
    "    sgd_optimizer     = optimizers.SGD(lr=LEARN_RATE, nesterov=True)\n",
    "    #sgd_optimizer     = optimizers.SGD(lr=LEARN_RATE, decay=1e-6, momentum=0.9, nesterov=True)\n",
    "    adam_optimizer    = optimizers.Adam(lr=LEARN_RATE, beta_1=0.9, beta_2=0.999, epsilon=1e-08, decay=0.0)\n",
    "    adagrad_optimizer = optimizers.Adagrad(lr=LEARN_RATE, epsilon=1e-08, decay=0.0)\n",
    "    \n",
    "    model.compile(loss='categorical_crossentropy',\n",
    "              optimizer=sgd_optimizer,\n",
    "              metrics=['acc'])\n",
    "    model.summary()\n",
    "\n",
    "    train_x = train_x.astype(np.float32)\n",
    "    #train_y = train_y.astype(np.float32)\n",
    "    \n",
    "    # set callback functions\n",
    "    history = History()\n",
    "    csv_logger = CSVLogger('./{0}_{1}.log'.format(fname, reg_param), separator=',', append=True)\n",
    "    checkpoint = ModelCheckpoint(filepath=filepath, verbose=1, save_best_only=False)\n",
    " \n",
    "    print(str(datetime.now()))\n",
    "    t1 = time.time()\n",
    "    # for final training, train without validation split\n",
    "    # hist_results = model.fit(train_x[ind,:,:], train_y[ind,:], epochs=num_epochs, batch_size=batch_size, shuffle=False, \n",
    "    #          callbacks=[checkpoint, history, csv_logger], verbose=2)\n",
    "    hist_results = model.fit(train_x, train_y, epochs=num_epochs, batch_size=batch_size, validation_split=0.1, shuffle=False, \n",
    "          callbacks=[checkpoint, history, csv_logger], verbose=2)\n",
    "\n",
    "    t2 = time.time()\n",
    "    print(str(datetime.now()))\n",
    "    print('Training time = %.3f' % (t2 - t1))\n",
    "    \n",
    "    if show_hist:\n",
    "        show_history(hist_results)\n",
    "    \n",
    "    return model, hist_results"
   ]
  },
  {
   "cell_type": "markdown",
   "metadata": {},
   "source": [
    "#### Function to evaluate a trained HAN model using a test set and save prediction results"
   ]
  },
  {
   "cell_type": "code",
   "execution_count": 21,
   "metadata": {
    "collapsed": true,
    "scrolled": true
   },
   "outputs": [],
   "source": [
    "def evaluate(test_x, test_y, model, save=False, outfile=None):\n",
    "    test_x = test_x.astype(np.float32)\n",
    "    #test_y = test_y.astype(np.float32)\n",
    "\n",
    "    print(str(datetime.now()))\n",
    "    t1    = time.time()\n",
    "    preds = model.predict(test_x)\n",
    "    t2    = time.time()\n",
    "    print(str(datetime.now()))\n",
    "    tdiff = t2 - t1\n",
    "    print('Evaluation time for %d sequences = %.3f secs --> %.6f sec/sequence\\n' % \n",
    "                                (len(preds), tdiff, tdiff/len(preds)))\n",
    "\n",
    "    #print(preds.shape, test_y.shape)\n",
    "    y_true = np.zeros(test_y.shape[0])\n",
    "    y_true[y_test[:,1] == 1] = 1\n",
    "    y_pred = preds.argmax(axis=1)\n",
    "    print(\"Accuracy = {0} \\t AUC = {1}\".format(accuracy_score(y_true, y_pred),\n",
    "                                           roc_auc_score(y_true, y_pred)))\n",
    "    print('Confusion matrix:')\n",
    "    print(confusion_matrix(y_true, y_pred))\n",
    "    \n",
    "    # Plot ROC curve\n",
    "    fpr, tpr, _ = roc_curve(y_true, y_pred)\n",
    "    plot(fpr, tpr)\n",
    "    xlabel('FPR')\n",
    "    ylabel('TPR')\n",
    "\n",
    "    # Save prediction results for offline analysis\n",
    "    if save and outfile is not None:\n",
    "        ff = open(ofname, 'w')\n",
    "        pid = 0\n",
    "        sid = 0\n",
    "        if BY_PROCESS:\n",
    "            ff.write('test_pid\\tproc_sid\\tseq_state\\ty_true\\ty_pred\\tprob[0]\\tprob[1]\\tmatch?\\n')\n",
    "            for i in range(len(y_true)):\n",
    "                match = (y_true[i] == y_pred[i])\n",
    "                if text_test[i].endswith('<eos>'):\n",
    "                    seq = '<eos>'\n",
    "                else:\n",
    "                    seq = '<inp>'\n",
    "                ff.write('%d\\t%d\\t%s\\t%d\\t%d\\t%10.8f\\t%10.8f\\t%d\\n' % (pid, sid, seq, y_true[i], y_pred[i], preds[i, 0], preds[i, 1], match))\n",
    "                if text_test[i].endswith('<eos>'):\n",
    "                    pid += 1\n",
    "                    sid = 0\n",
    "                else:\n",
    "                    sid += 1\n",
    "        else:\n",
    "            ff.write('test_sid\\tseq_state\\ty_true\\ty_pred\\tprob[0]\\tprob[1]\\tmatch?\\n')\n",
    "            for i in range(len(y_true)):\n",
    "                match = (y_true[i] == y_pred[i])\n",
    "                if text_test[i].endswith('<eos>'):\n",
    "                    seq = '<eos>'\n",
    "                else:\n",
    "                    seq = '<inp>'\n",
    "                ff.write('%d\\t%s\\t%d\\t%d\\t%10.8f\\t%10.8f\\t%d\\n' % (sid, seq, y_true[i], y_pred[i], preds[i, 0], preds[i, 1], match))\n",
    "                sid += 1 \n",
    "        ff.close()\n",
    "        print('Results saved in %s' % outfile)\n",
    "    return"
   ]
  },
  {
   "cell_type": "markdown",
   "metadata": {},
   "source": [
    "#### Function to report training and validation progress during model training"
   ]
  },
  {
   "cell_type": "code",
   "execution_count": 22,
   "metadata": {
    "collapsed": true,
    "scrolled": true
   },
   "outputs": [],
   "source": [
    "def show_history(history):\n",
    "    # list all data in history\n",
    "    print(history.history.keys())\n",
    "\n",
    "    # summarize history for accuracy\n",
    "    plt.plot(history.history['acc'])\n",
    "    plt.plot(history.history['val_acc'])\n",
    "    plt.title('model accuracy')\n",
    "    plt.ylabel('accuracy')\n",
    "    plt.xlabel('epoch')\n",
    "    plt.legend(['train', 'valid'], loc='upper left')\n",
    "    plt.show()\n",
    "\n",
    "    # summarize history for loss\n",
    "    plt.plot(history.history['loss'])\n",
    "    plt.plot(history.history['val_loss'])\n",
    "    plt.title('model loss')\n",
    "    plt.ylabel('loss')\n",
    "    plt.xlabel('epoch')\n",
    "    plt.legend(['train', 'valid'], loc='upper left')\n",
    "    plt.show()\n",
    "    \n",
    "    return"
   ]
  },
  {
   "cell_type": "markdown",
   "metadata": {},
   "source": [
    "### Begin model training process\n",
    "If USE_WORD2VEC is Ture, train word2vec on all documents in order to initialize the word embedding. Do not ignore rare words (min_count=1). Use skip-gram as the training algorithm (sg=1).<br><br>\n",
    "**Note:** Using a pre-trained word2vec model is not required if training data is large enough. Experiments with and without pre-training word2vec model produces similar results using this training data and a few training epochs. The word embeddings are learned in the first 1-2 training epochs."
   ]
  },
  {
   "cell_type": "code",
   "execution_count": 23,
   "metadata": {
    "collapsed": true
   },
   "outputs": [],
   "source": [
    "if USE_WORD2VEC:\n",
    "    embedding_matrix = get_embedding_matrix(doc_lst, word_index, embedding_dim=EMBEDDING_DIM, max_num_words=MAX_NB_WORDS)\n",
    "else:\n",
    "    embedding_matrix = None"
   ]
  },
  {
   "cell_type": "markdown",
   "metadata": {},
   "source": [
    "**Prepare train/test data split**"
   ]
  },
  {
   "cell_type": "markdown",
   "metadata": {},
   "source": [
    "Extract a balanced subsample (optional) and split into training and test sets."
   ]
  },
  {
   "cell_type": "code",
   "execution_count": 24,
   "metadata": {
    "collapsed": true,
    "scrolled": true
   },
   "outputs": [],
   "source": [
    "# Set random seed\n",
    "np.random.seed(seed=123)\n",
    "\n",
    "if BY_PROCESS:\n",
    "    num_samples = len(processes)\n",
    "    train_size  = np.int(num_samples * use_ratio * 0.8)\n",
    "    test_size   = np.int(num_samples * use_ratio) - train_size\n",
    "    random_idx  = np.random.permutation(num_samples)\n",
    "    ptrain_idx, ptest_idx = random_idx[:train_size], random_idx[-test_size:]\n",
    "    p_train, p_test = [processes[i] for i in ptrain_idx], [processes[i] for i in ptest_idx]\n",
    "\n",
    "    train_idx, test_idx = [], []\n",
    "    for i, proc in enumerate(p_train):\n",
    "        train_idx.extend(range(proc[0], proc[1]))\n",
    "        np.random.shuffle(train_idx)\n",
    "    for i, proc in enumerate(p_test):\n",
    "        test_idx.extend(range(proc[0], proc[1]))\n",
    "        #np.random.shuffle(test_idx)\n",
    "else:\n",
    "    num_samples = data.shape[0]\n",
    "    train_size  = np.int(num_samples * use_ratio * 0.8)\n",
    "    test_size   = np.int(num_samples * use_ratio) - train_size\n",
    "    random_idx  = np.random.permutation(num_samples)\n",
    "    train_idx, test_idx = random_idx[:train_size], random_idx[-test_size:]\n",
    "\n",
    "# Balance label distribution if balance_ratio > 0.0\n",
    "if balance_ratio > 0.0:\n",
    "    class_distrib = np.unique(y_all[train_idx,1], return_counts=True)\n",
    "    print('Original training class distribution = ', class_distrib)\n",
    "    min_rep_class = class_distrib[0][np.argsort(class_distrib[1])[0]]\n",
    "    max_rep_class = class_distrib[0][np.argsort(class_distrib[1])[-1]]\n",
    "    train_idx     = np.asarray(train_idx)\n",
    "    idx_min_class = train_idx[y_all[train_idx,1] == min_rep_class]\n",
    "    idx_max_class = train_idx[y_all[train_idx,1] == max_rep_class]\n",
    "    if over_sample:\n",
    "        #min_rep_incl  = int(class_distrib[1][max_rep_class] / balance_ratio)\n",
    "        new_idx_min_class = np.zeros(0, dtype= np.int)\n",
    "        for i in range(int(balance_ratio)):\n",
    "            new_idx_min_class = np.concatenate((new_idx_min_class, idx_min_class), axis=0)      # repeat min_class samples to min_rep_incl\n",
    "        idx_min_class = new_idx_min_class\n",
    "    else:\n",
    "        max_rep_incl  = int(class_distrib[1][min_rep_class] * balance_ratio)\n",
    "        idx_max_class = idx_max_class[:max_rep_incl]                                # limit max_class samples to max_rep_incl\n",
    "\n",
    "    train_idx     = np.concatenate((idx_min_class, idx_max_class), axis=0)      # merge positive and negative samples\n",
    "    np.random.shuffle(train_idx)                                                # reshuffle train indices\n",
    "    print('Final training class distribution    = ', np.unique(y_all[train_idx,1], return_counts=True))\n",
    "    \n",
    "x_train, x_test = x_all[train_idx,:], x_all[test_idx,:]\n",
    "y_train, y_test = y_all[train_idx,:], y_all[test_idx,:]\n",
    "#sent_train, sent_test = [sentences[i] for i in train_idx], [sentences[i] for i in test_idx]\n",
    "text_train, text_test = [texts[i] for i in train_idx], [texts[i] for i in test_idx]"
   ]
  },
  {
   "cell_type": "code",
   "execution_count": 25,
   "metadata": {},
   "outputs": [
    {
     "name": "stdout",
     "output_type": "stream",
     "text": [
      "1115 892 223\n",
      "(array([0, 1]), array([181748, 120290], dtype=int64))\n",
      "(array([0, 1]), array([37495, 30739], dtype=int64))\n",
      "302038 68234\n"
     ]
    }
   ],
   "source": [
    "print(num_samples, train_size, test_size)\n",
    "print(np.unique(y_train[:,1], return_counts=True))\n",
    "print(np.unique(y_test[:,1],  return_counts=True))\n",
    "#print(len(sent_train), len(sent_test))\n",
    "print(len(text_train), len(text_test))"
   ]
  },
  {
   "cell_type": "markdown",
   "metadata": {},
   "source": [
    "**Note:** Ordering documents is not necessary for process analysis since number of sentences if fixed.<br>\n",
    "If ORDER_DOCS is True, order training data by the number of sentences in document (as suggested in the [Yang et al.] paper)."
   ]
  },
  {
   "cell_type": "code",
   "execution_count": 26,
   "metadata": {
    "collapsed": true,
    "scrolled": true
   },
   "outputs": [],
   "source": [
    "if ORDER_DOCS:\n",
    "    doc_lengths = [len(r.split()) for r in text_train]\n",
    "    ind = np.argsort(doc_lengths)\n",
    "    #print(ind)\n",
    "    #print(doc_lengths[ind[0:10]])\n",
    "    #print(text_train[ind[0:10]])\n",
    "    x_train = x_train[ind,:,:]\n",
    "    y_train = y_train[ind,:]"
   ]
  },
  {
   "cell_type": "markdown",
   "metadata": {},
   "source": [
    "#### Build and train Hierarchical Attention Network model"
   ]
  },
  {
   "cell_type": "code",
   "execution_count": 27,
   "metadata": {
    "scrolled": false
   },
   "outputs": [
    {
     "name": "stdout",
     "output_type": "stream",
     "text": [
      "_________________________________________________________________\n",
      "Layer (type)                 Output Shape              Param #   \n",
      "=================================================================\n",
      "input_2 (InputLayer)         (None, 5, 40)             0         \n",
      "_________________________________________________________________\n",
      "time_distributed_1 (TimeDist (None, 5, 200)            253100    \n",
      "_________________________________________________________________\n",
      "bidirectional_2 (Bidirection (None, 5, 200)            180600    \n",
      "_________________________________________________________________\n",
      "att_layer_2 (AttLayer)       (None, 200)               20200     \n",
      "_________________________________________________________________\n",
      "dense_1 (Dense)              (None, 2)                 402       \n",
      "=================================================================\n",
      "Total params: 454,302\n",
      "Trainable params: 454,302\n",
      "Non-trainable params: 0\n",
      "_________________________________________________________________\n",
      "2018-01-29 16:25:35.203654\n",
      "Train on 271834 samples, validate on 30204 samples\n",
      "Epoch 1/20\n",
      "Epoch 00000: saving model to ./checkpoints/checkpoint-00-f2-dim=50-now2v-strat-lr=0.01.hdf5\n",
      "888s - loss: 0.2941 - acc: 0.8793 - val_loss: 0.2083 - val_acc: 0.9249\n",
      "Epoch 2/20\n",
      "Epoch 00001: saving model to ./checkpoints/checkpoint-01-f2-dim=50-now2v-strat-lr=0.01.hdf5\n",
      "867s - loss: 0.1845 - acc: 0.9359 - val_loss: 0.1633 - val_acc: 0.9442\n",
      "Epoch 3/20\n",
      "Epoch 00002: saving model to ./checkpoints/checkpoint-02-f2-dim=50-now2v-strat-lr=0.01.hdf5\n",
      "888s - loss: 0.1509 - acc: 0.9483 - val_loss: 0.1397 - val_acc: 0.9533\n",
      "Epoch 4/20\n",
      "Epoch 00003: saving model to ./checkpoints/checkpoint-03-f2-dim=50-now2v-strat-lr=0.01.hdf5\n",
      "905s - loss: 0.1289 - acc: 0.9570 - val_loss: 0.1200 - val_acc: 0.9612\n",
      "Epoch 5/20\n",
      "Epoch 00004: saving model to ./checkpoints/checkpoint-04-f2-dim=50-now2v-strat-lr=0.01.hdf5\n",
      "903s - loss: 0.1129 - acc: 0.9629 - val_loss: 0.1071 - val_acc: 0.9654\n",
      "Epoch 6/20\n",
      "Epoch 00005: saving model to ./checkpoints/checkpoint-05-f2-dim=50-now2v-strat-lr=0.01.hdf5\n",
      "879s - loss: 0.1015 - acc: 0.9669 - val_loss: 0.0981 - val_acc: 0.9689\n",
      "Epoch 7/20\n",
      "Epoch 00006: saving model to ./checkpoints/checkpoint-06-f2-dim=50-now2v-strat-lr=0.01.hdf5\n",
      "880s - loss: 0.0927 - acc: 0.9700 - val_loss: 0.0914 - val_acc: 0.9705\n",
      "Epoch 8/20\n",
      "Epoch 00007: saving model to ./checkpoints/checkpoint-07-f2-dim=50-now2v-strat-lr=0.01.hdf5\n",
      "891s - loss: 0.0850 - acc: 0.9726 - val_loss: 0.0866 - val_acc: 0.9724\n",
      "Epoch 9/20\n",
      "Epoch 00008: saving model to ./checkpoints/checkpoint-08-f2-dim=50-now2v-strat-lr=0.01.hdf5\n",
      "899s - loss: 0.0789 - acc: 0.9746 - val_loss: 0.0788 - val_acc: 0.9754\n",
      "Epoch 10/20\n",
      "Epoch 00009: saving model to ./checkpoints/checkpoint-09-f2-dim=50-now2v-strat-lr=0.01.hdf5\n",
      "889s - loss: 0.0736 - acc: 0.9764 - val_loss: 0.0736 - val_acc: 0.9774\n",
      "Epoch 11/20\n",
      "Epoch 00010: saving model to ./checkpoints/checkpoint-10-f2-dim=50-now2v-strat-lr=0.01.hdf5\n",
      "896s - loss: 0.0689 - acc: 0.9780 - val_loss: 0.0704 - val_acc: 0.9783\n",
      "Epoch 12/20\n",
      "Epoch 00011: saving model to ./checkpoints/checkpoint-11-f2-dim=50-now2v-strat-lr=0.01.hdf5\n",
      "893s - loss: 0.0649 - acc: 0.9793 - val_loss: 0.0672 - val_acc: 0.9794\n",
      "Epoch 13/20\n",
      "Epoch 00012: saving model to ./checkpoints/checkpoint-12-f2-dim=50-now2v-strat-lr=0.01.hdf5\n",
      "895s - loss: 0.0615 - acc: 0.9805 - val_loss: 0.0661 - val_acc: 0.9787\n",
      "Epoch 14/20\n",
      "Epoch 00013: saving model to ./checkpoints/checkpoint-13-f2-dim=50-now2v-strat-lr=0.01.hdf5\n",
      "885s - loss: 0.0584 - acc: 0.9818 - val_loss: 0.0729 - val_acc: 0.9765\n",
      "Epoch 15/20\n",
      "Epoch 00014: saving model to ./checkpoints/checkpoint-14-f2-dim=50-now2v-strat-lr=0.01.hdf5\n",
      "890s - loss: 0.0559 - acc: 0.9829 - val_loss: 0.0624 - val_acc: 0.9809\n",
      "Epoch 16/20\n",
      "Epoch 00015: saving model to ./checkpoints/checkpoint-15-f2-dim=50-now2v-strat-lr=0.01.hdf5\n",
      "895s - loss: 0.0535 - acc: 0.9833 - val_loss: 0.0614 - val_acc: 0.9802\n",
      "Epoch 17/20\n",
      "Epoch 00016: saving model to ./checkpoints/checkpoint-16-f2-dim=50-now2v-strat-lr=0.01.hdf5\n",
      "890s - loss: 0.0509 - acc: 0.9844 - val_loss: 0.0587 - val_acc: 0.9823\n",
      "Epoch 18/20\n",
      "Epoch 00017: saving model to ./checkpoints/checkpoint-17-f2-dim=50-now2v-strat-lr=0.01.hdf5\n",
      "871s - loss: 0.0495 - acc: 0.9847 - val_loss: 0.0615 - val_acc: 0.9799\n",
      "Epoch 19/20\n",
      "Epoch 00018: saving model to ./checkpoints/checkpoint-18-f2-dim=50-now2v-strat-lr=0.01.hdf5\n",
      "888s - loss: 0.0477 - acc: 0.9852 - val_loss: 0.0566 - val_acc: 0.9828\n",
      "Epoch 20/20\n",
      "Epoch 00019: saving model to ./checkpoints/checkpoint-19-f2-dim=50-now2v-strat-lr=0.01.hdf5\n",
      "879s - loss: 0.0458 - acc: 0.9860 - val_loss: 0.0571 - val_acc: 0.9824\n",
      "2018-01-29 21:21:57.353396\n",
      "Training time = 17782.150\n",
      "dict_keys(['val_acc', 'val_loss', 'acc', 'loss'])\n"
     ]
    },
    {
     "data": {
      "image/png": "[encoded data removed]",
      "text/plain": [
       "<matplotlib.figure.Figure at 0x1fb7238f518>"
      ]
     },
     "metadata": {},
     "output_type": "display_data"
    },
    {
     "data": {
      "image/png": "[encoded data removed]",
      "text/plain": [
       "<matplotlib.figure.Figure at 0x1fb8486fda0>"
      ]
     },
     "metadata": {},
     "output_type": "display_data"
    }
   ],
   "source": [
    "# create model\n",
    "model = create_model(n_classes, reg_param=REG_PARAM,\n",
    "                     embedding_dim=EMBEDDING_DIM, embedding_matrix=embedding_matrix,\n",
    "                     gru_units=GRU_UNITS, context_dim=CONTEXT_DIM, \n",
    "                     max_sents=MAX_SENTS, max_sent_length=MAX_SENT_LENGTH, max_num_words=MAX_NB_WORDS)\n",
    "\n",
    "filepath = './checkpoints'\n",
    "model, history = train(x_train, y_train, model, model_path=filepath, \n",
    "                              batch_size=BATCH_SIZE, num_epochs=NUM_EPOCHS, reg_param=REG_PARAM, show_hist=True)"
   ]
  },
  {
   "cell_type": "markdown",
   "metadata": {},
   "source": [
    "#### Evaluate the model using the test set and report performance results"
   ]
  },
  {
   "cell_type": "code",
   "execution_count": 29,
   "metadata": {},
   "outputs": [
    {
     "name": "stdout",
     "output_type": "stream",
     "text": [
      "2018-01-29 22:16:50.383448\n",
      "2018-01-29 22:17:59.473069\n",
      "Evaluation time for 68234 sequences = 69.090 secs --> 0.001013 sec/sequence\n",
      "\n",
      "Accuracy = 0.9848316088753407 \t AUC = 0.9846770382358061\n",
      "Confusion matrix:\n",
      "[[36979   516]\n",
      " [  519 30220]]\n",
      "Results saved in ./results/pred_results-sent=5-f2-now2v-strat-epoch=20-lr=0.01.txt\n"
     ]
    },
    {
     "data": {
      "image/png": "[encoded data removed]",
      "text/plain": [
       "<matplotlib.figure.Figure at 0x1f9efa21e48>"
      ]
     },
     "metadata": {},
     "output_type": "display_data"
    }
   ],
   "source": [
    "if USE_WORD2VEC:\n",
    "    ofname = './results/pred_results-sent=%d-f%d-w2v-strat-epoch=%d-lr=%.2f.txt' % (MAX_SENTS, MAX_FIELDS, NUM_EPOCHS, LEARN_RATE)\n",
    "else:\n",
    "    ofname = './results/pred_results-sent=%d-f%d-now2v-strat-epoch=%d-lr=%.2f.txt' % (MAX_SENTS, MAX_FIELDS, NUM_EPOCHS, LEARN_RATE)\n",
    "evaluate(x_test, y_test, model, save=True, outfile=ofname)"
   ]
  },
  {
   "cell_type": "markdown",
   "metadata": {},
   "source": [
    "### Report and save performance summary statistics per sequence and per disassembled executable\n",
    "**Note:** Per executable performance below takes a majority vote of all sequences in the diassembled file in order to determine the predicted label per file, i.e., executable label = class label with more sequences predicted.<br><br>\n",
    "This is a rudimentary heuristic for demonstration purposes only. Per sequence labels migt be more critical for some analysis. A runtime heuristic will be needed in order to decide when to flag a suspicious executable file."
   ]
  },
  {
   "cell_type": "code",
   "execution_count": 30,
   "metadata": {},
   "outputs": [
    {
     "name": "stdout",
     "output_type": "stream",
     "text": [
      "Sequence Confusion Matrix\n",
      "Predicted      0      1  __all__\n",
      "Actual                          \n",
      "0          36979    516    37495\n",
      "1            519  30220    30739\n",
      "__all__    37498  30736    68234\n",
      "Class 0: Recall = 98.62381651 Precision = 98.61592618\n",
      "Class 1: Recall = 98.31159114 Precision = 98.32118688\n",
      "Overall Accuracy = 0.9848316088753407 \t AUC = 0.9846770382358061\n",
      "\n",
      "Executable Confusion Matrix\n",
      "Predicted   0    1  __all__\n",
      "Actual                     \n",
      "0          84    0       84\n",
      "1           3  136      139\n",
      "__all__    87  136      223\n",
      "Class 0: Recall = 100.00000000 Precision = 96.55172414\n",
      "Class 1: Recall = 97.84172662 Precision = 100.00000000\n",
      "Overall Accuracy = 0.9865470852017937 \t AUC = 0.9892086330935252\n",
      "\n",
      "Per executable results and performance summary saved to ./results/pred_summary-sent=5-f2-now2v-strat-epoch=20-lr=0.01.txt\n"
     ]
    }
   ],
   "source": [
    "import pandas as pd\n",
    "from pandas_confusion import ConfusionMatrix\n",
    "\n",
    "# Get performance per process\n",
    "df  = pd.read_csv(ofname, sep='\\t', header=0, encoding='utf-8')\n",
    "df1 = pd.pivot_table(df, values='proc_sid', index=['test_pid', 'y_true'], columns='y_pred', aggfunc='count', fill_value=0)\n",
    "df1['total'] = df1[0] + df1[1]\n",
    "df1['%_0'] = df1[0] * 100 / df1['total']\n",
    "df1['%_1'] = df1[1] * 100 / df1['total']\n",
    "df1['proc_label'] = df1[1] > df1[0]\n",
    "df1['proc_label'] = df1['proc_label'].astype(np.int)\n",
    "sfname = ofname.replace('pred_results', 'pred_summary')\n",
    "df1.to_csv(sfname, sep='\\t', index=True, index_label='test_pid\\ty_true', encoding='utf-8')\n",
    "\n",
    "# Get confusion matrix and overall performance metrics\n",
    "y_true = df['y_true']\n",
    "y_pred = df['y_pred']\n",
    "confusion_mtx = ConfusionMatrix(y_true, y_pred)\n",
    "print('Sequence Confusion Matrix')\n",
    "print(confusion_mtx)\n",
    "#confusion_mtx.plot()\n",
    "plt.show()\n",
    "\n",
    "ff = open(sfname, 'a')\n",
    "print('=========================================================================', file=ff)\n",
    "print('Sequence Confusion Matrix', file=ff)\n",
    "print(confusion_mtx, file=ff)\n",
    "print('=========================================================================', file=ff)\n",
    "\n",
    "cm = confusion_mtx.to_dataframe()\n",
    "correct=0\n",
    "print('Per Sequence Performance Metrics', file=ff)\n",
    "for i in range(cm.shape[0]):\n",
    "    correct += cm.iloc[i][i]\n",
    "    prec   = cm.iloc[i][i] * 100.0 / cm.sum(axis=0)[i]\n",
    "    recall = cm.iloc[i][i] * 100.0 / cm.sum(axis=1)[i]\n",
    "    print('Class %s: Recall = %.8f Precision = %.8f' % (cm.columns[i], recall, prec))\n",
    "    print('Class %s: Recall = %.8f Precision = %.8f' % (cm.columns[i], recall, prec), file=ff)\n",
    "print(\"Overall Accuracy = {0} \\t AUC = {1}\".format(accuracy_score(y_true, y_pred), roc_auc_score(y_true, y_pred)))\n",
    "print(\"Overall Accuracy = {0} \\t AUC = {1}\".format(accuracy_score(y_true, y_pred), roc_auc_score(y_true, y_pred)), file=ff)\n",
    "#print('=========================================================================', file=ff)\n",
    "print('')\n",
    "\n",
    "# Get process-level confusion matrix and overall performance metrics\n",
    "df2 = pd.DataFrame(columns=['y_true', 'y_pred'])\n",
    "df2['y_true'] = pd.Series(df1.index.get_level_values(1))\n",
    "df2['y_pred'] = df1['proc_label'].values\n",
    "y_true = df2['y_true']\n",
    "y_pred = df2['y_pred']\n",
    "confusion_mtx = ConfusionMatrix(y_true, y_pred)\n",
    "print('Executable Confusion Matrix')\n",
    "print(confusion_mtx)\n",
    "#confusion_mtx.plot()\n",
    "plt.show()\n",
    "\n",
    "print('=========================================================================', file=ff)\n",
    "print('Executable Confusion Matrix', file=ff)\n",
    "print(confusion_mtx, file=ff)\n",
    "print('=========================================================================', file=ff)\n",
    "\n",
    "cm = confusion_mtx.to_dataframe()\n",
    "correct=0\n",
    "print('Per Executable Performance Metrics', file=ff)\n",
    "for i in range(cm.shape[0]):\n",
    "    correct += cm.iloc[i][i]\n",
    "    prec   = cm.iloc[i][i] * 100.0 / cm.sum(axis=0)[i]\n",
    "    recall = cm.iloc[i][i] * 100.0 / cm.sum(axis=1)[i]\n",
    "    print('Class %s: Recall = %.8f Precision = %.8f' % (cm.columns[i], recall, prec))\n",
    "    print('Class %s: Recall = %.8f Precision = %.8f' % (cm.columns[i], recall, prec), file=ff)\n",
    "print(\"Overall Accuracy = {0} \\t AUC = {1}\".format(accuracy_score(y_true, y_pred), roc_auc_score(y_true, y_pred)))\n",
    "print(\"Overall Accuracy = {0} \\t AUC = {1}\".format(accuracy_score(y_true, y_pred), roc_auc_score(y_true, y_pred)), file=ff)\n",
    "print('=========================================================================', file=ff)\n",
    "\n",
    "ff.close()\n",
    "\n",
    "print('\\nPer executable results and performance summary saved to %s' % sfname)"
   ]
  },
  {
   "cell_type": "code",
   "execution_count": null,
   "metadata": {
    "collapsed": true,
    "scrolled": true
   },
   "outputs": [],
   "source": []
  }
 ],
 "metadata": {
  "kernelspec": {
   "display_name": "Python 3",
   "language": "python",
   "name": "python3"
  },
  "language_info": {
   "codemirror_mode": {
    "name": "ipython",
    "version": 3
   },
   "file_extension": ".py",
   "mimetype": "text/x-python",
   "name": "python",
   "nbconvert_exporter": "python",
   "pygments_lexer": "ipython3",
   "version": "3.5.3"
  }
 },
 "nbformat": 4,
 "nbformat_minor": 2
}
